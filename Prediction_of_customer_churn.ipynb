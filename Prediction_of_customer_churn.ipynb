{
 "cells": [
  {
   "cell_type": "code",
   "execution_count": 1,
   "id": "5d596627",
   "metadata": {},
   "outputs": [],
   "source": [
    "import pandas as pd\n",
    "import numpy as np\n",
    "import seaborn as sns\n",
    "import matplotlib.pyplot as plt\n",
    "from imblearn.combine import SMOTETomek"
   ]
  },
  {
   "cell_type": "code",
   "execution_count": 2,
   "id": "f75a3259",
   "metadata": {},
   "outputs": [
    {
     "data": {
      "text/html": [
       "<div>\n",
       "<style scoped>\n",
       "    .dataframe tbody tr th:only-of-type {\n",
       "        vertical-align: middle;\n",
       "    }\n",
       "\n",
       "    .dataframe tbody tr th {\n",
       "        vertical-align: top;\n",
       "    }\n",
       "\n",
       "    .dataframe thead th {\n",
       "        text-align: right;\n",
       "    }\n",
       "</style>\n",
       "<table border=\"1\" class=\"dataframe\">\n",
       "  <thead>\n",
       "    <tr style=\"text-align: right;\">\n",
       "      <th></th>\n",
       "      <th>age</th>\n",
       "      <th>job</th>\n",
       "      <th>marital</th>\n",
       "      <th>education</th>\n",
       "      <th>default</th>\n",
       "      <th>balance</th>\n",
       "      <th>housing</th>\n",
       "      <th>loan</th>\n",
       "      <th>contact</th>\n",
       "      <th>day</th>\n",
       "      <th>month</th>\n",
       "      <th>duration</th>\n",
       "      <th>campaign</th>\n",
       "      <th>pdays</th>\n",
       "      <th>previous</th>\n",
       "      <th>poutcome</th>\n",
       "      <th>y</th>\n",
       "    </tr>\n",
       "  </thead>\n",
       "  <tbody>\n",
       "    <tr>\n",
       "      <th>0</th>\n",
       "      <td>30</td>\n",
       "      <td>unemployed</td>\n",
       "      <td>married</td>\n",
       "      <td>primary</td>\n",
       "      <td>no</td>\n",
       "      <td>1787</td>\n",
       "      <td>no</td>\n",
       "      <td>no</td>\n",
       "      <td>cellular</td>\n",
       "      <td>19</td>\n",
       "      <td>oct</td>\n",
       "      <td>79</td>\n",
       "      <td>1</td>\n",
       "      <td>-1</td>\n",
       "      <td>0</td>\n",
       "      <td>unknown</td>\n",
       "      <td>no</td>\n",
       "    </tr>\n",
       "    <tr>\n",
       "      <th>1</th>\n",
       "      <td>33</td>\n",
       "      <td>services</td>\n",
       "      <td>married</td>\n",
       "      <td>secondary</td>\n",
       "      <td>no</td>\n",
       "      <td>4789</td>\n",
       "      <td>yes</td>\n",
       "      <td>yes</td>\n",
       "      <td>cellular</td>\n",
       "      <td>11</td>\n",
       "      <td>may</td>\n",
       "      <td>220</td>\n",
       "      <td>1</td>\n",
       "      <td>339</td>\n",
       "      <td>4</td>\n",
       "      <td>failure</td>\n",
       "      <td>no</td>\n",
       "    </tr>\n",
       "    <tr>\n",
       "      <th>2</th>\n",
       "      <td>35</td>\n",
       "      <td>management</td>\n",
       "      <td>single</td>\n",
       "      <td>tertiary</td>\n",
       "      <td>no</td>\n",
       "      <td>1350</td>\n",
       "      <td>yes</td>\n",
       "      <td>no</td>\n",
       "      <td>cellular</td>\n",
       "      <td>16</td>\n",
       "      <td>apr</td>\n",
       "      <td>185</td>\n",
       "      <td>1</td>\n",
       "      <td>330</td>\n",
       "      <td>1</td>\n",
       "      <td>failure</td>\n",
       "      <td>no</td>\n",
       "    </tr>\n",
       "    <tr>\n",
       "      <th>3</th>\n",
       "      <td>30</td>\n",
       "      <td>management</td>\n",
       "      <td>married</td>\n",
       "      <td>tertiary</td>\n",
       "      <td>no</td>\n",
       "      <td>1476</td>\n",
       "      <td>yes</td>\n",
       "      <td>yes</td>\n",
       "      <td>unknown</td>\n",
       "      <td>3</td>\n",
       "      <td>jun</td>\n",
       "      <td>199</td>\n",
       "      <td>4</td>\n",
       "      <td>-1</td>\n",
       "      <td>0</td>\n",
       "      <td>unknown</td>\n",
       "      <td>no</td>\n",
       "    </tr>\n",
       "    <tr>\n",
       "      <th>4</th>\n",
       "      <td>59</td>\n",
       "      <td>blue-collar</td>\n",
       "      <td>married</td>\n",
       "      <td>secondary</td>\n",
       "      <td>no</td>\n",
       "      <td>0</td>\n",
       "      <td>yes</td>\n",
       "      <td>no</td>\n",
       "      <td>unknown</td>\n",
       "      <td>5</td>\n",
       "      <td>may</td>\n",
       "      <td>226</td>\n",
       "      <td>1</td>\n",
       "      <td>-1</td>\n",
       "      <td>0</td>\n",
       "      <td>unknown</td>\n",
       "      <td>no</td>\n",
       "    </tr>\n",
       "  </tbody>\n",
       "</table>\n",
       "</div>"
      ],
      "text/plain": [
       "   age          job  marital  education default  balance housing loan  \\\n",
       "0   30   unemployed  married    primary      no     1787      no   no   \n",
       "1   33     services  married  secondary      no     4789     yes  yes   \n",
       "2   35   management   single   tertiary      no     1350     yes   no   \n",
       "3   30   management  married   tertiary      no     1476     yes  yes   \n",
       "4   59  blue-collar  married  secondary      no        0     yes   no   \n",
       "\n",
       "    contact  day month  duration  campaign  pdays  previous poutcome   y  \n",
       "0  cellular   19   oct        79         1     -1         0  unknown  no  \n",
       "1  cellular   11   may       220         1    339         4  failure  no  \n",
       "2  cellular   16   apr       185         1    330         1  failure  no  \n",
       "3   unknown    3   jun       199         4     -1         0  unknown  no  \n",
       "4   unknown    5   may       226         1     -1         0  unknown  no  "
      ]
     },
     "execution_count": 2,
     "metadata": {},
     "output_type": "execute_result"
    }
   ],
   "source": [
    "df= pd.read_csv('bank.csv',sep=';')\n",
    "df.head()"
   ]
  },
  {
   "cell_type": "code",
   "execution_count": 3,
   "id": "1d743eac",
   "metadata": {},
   "outputs": [
    {
     "name": "stdout",
     "output_type": "stream",
     "text": [
      "<class 'pandas.core.frame.DataFrame'>\n",
      "RangeIndex: 4521 entries, 0 to 4520\n",
      "Data columns (total 17 columns):\n",
      " #   Column     Non-Null Count  Dtype \n",
      "---  ------     --------------  ----- \n",
      " 0   age        4521 non-null   int64 \n",
      " 1   job        4521 non-null   object\n",
      " 2   marital    4521 non-null   object\n",
      " 3   education  4521 non-null   object\n",
      " 4   default    4521 non-null   object\n",
      " 5   balance    4521 non-null   int64 \n",
      " 6   housing    4521 non-null   object\n",
      " 7   loan       4521 non-null   object\n",
      " 8   contact    4521 non-null   object\n",
      " 9   day        4521 non-null   int64 \n",
      " 10  month      4521 non-null   object\n",
      " 11  duration   4521 non-null   int64 \n",
      " 12  campaign   4521 non-null   int64 \n",
      " 13  pdays      4521 non-null   int64 \n",
      " 14  previous   4521 non-null   int64 \n",
      " 15  poutcome   4521 non-null   object\n",
      " 16  y          4521 non-null   object\n",
      "dtypes: int64(7), object(10)\n",
      "memory usage: 600.6+ KB\n"
     ]
    }
   ],
   "source": [
    "df.info()"
   ]
  },
  {
   "cell_type": "code",
   "execution_count": 4,
   "id": "9215f074",
   "metadata": {},
   "outputs": [
    {
     "data": {
      "text/plain": [
       "0"
      ]
     },
     "execution_count": 4,
     "metadata": {},
     "output_type": "execute_result"
    }
   ],
   "source": [
    "df.duplicated().sum()"
   ]
  },
  {
   "cell_type": "code",
   "execution_count": 5,
   "id": "bf182b82",
   "metadata": {},
   "outputs": [
    {
     "data": {
      "text/plain": [
       "array(['unemployed', 'services', 'management', 'blue-collar',\n",
       "       'self-employed', 'technician', 'entrepreneur', 'admin.', 'student',\n",
       "       'housemaid', 'retired', 'unknown'], dtype=object)"
      ]
     },
     "execution_count": 5,
     "metadata": {},
     "output_type": "execute_result"
    }
   ],
   "source": [
    "df.job.unique()"
   ]
  },
  {
   "cell_type": "code",
   "execution_count": 6,
   "id": "a0170600",
   "metadata": {},
   "outputs": [
    {
     "name": "stdout",
     "output_type": "stream",
     "text": [
      "Column is: age\n",
      "age          0\n",
      "job          0\n",
      "marital      0\n",
      "education    0\n",
      "default      0\n",
      "balance      0\n",
      "housing      0\n",
      "loan         0\n",
      "contact      0\n",
      "day          0\n",
      "month        0\n",
      "duration     0\n",
      "campaign     0\n",
      "pdays        0\n",
      "previous     0\n",
      "poutcome     0\n",
      "y            0\n",
      "dtype: int64\n",
      "\n",
      "\n",
      "Column is: job\n",
      "age          38\n",
      "job          38\n",
      "marital      38\n",
      "education    38\n",
      "default      38\n",
      "balance      38\n",
      "housing      38\n",
      "loan         38\n",
      "contact      38\n",
      "day          38\n",
      "month        38\n",
      "duration     38\n",
      "campaign     38\n",
      "pdays        38\n",
      "previous     38\n",
      "poutcome     38\n",
      "y            38\n",
      "dtype: int64\n",
      "\n",
      "\n",
      "Column is: marital\n",
      "age          0\n",
      "job          0\n",
      "marital      0\n",
      "education    0\n",
      "default      0\n",
      "balance      0\n",
      "housing      0\n",
      "loan         0\n",
      "contact      0\n",
      "day          0\n",
      "month        0\n",
      "duration     0\n",
      "campaign     0\n",
      "pdays        0\n",
      "previous     0\n",
      "poutcome     0\n",
      "y            0\n",
      "dtype: int64\n",
      "\n",
      "\n",
      "Column is: education\n",
      "age          187\n",
      "job          187\n",
      "marital      187\n",
      "education    187\n",
      "default      187\n",
      "balance      187\n",
      "housing      187\n",
      "loan         187\n",
      "contact      187\n",
      "day          187\n",
      "month        187\n",
      "duration     187\n",
      "campaign     187\n",
      "pdays        187\n",
      "previous     187\n",
      "poutcome     187\n",
      "y            187\n",
      "dtype: int64\n",
      "\n",
      "\n",
      "Column is: default\n",
      "age          0\n",
      "job          0\n",
      "marital      0\n",
      "education    0\n",
      "default      0\n",
      "balance      0\n",
      "housing      0\n",
      "loan         0\n",
      "contact      0\n",
      "day          0\n",
      "month        0\n",
      "duration     0\n",
      "campaign     0\n",
      "pdays        0\n",
      "previous     0\n",
      "poutcome     0\n",
      "y            0\n",
      "dtype: int64\n",
      "\n",
      "\n",
      "Column is: balance\n",
      "age          0\n",
      "job          0\n",
      "marital      0\n",
      "education    0\n",
      "default      0\n",
      "balance      0\n",
      "housing      0\n",
      "loan         0\n",
      "contact      0\n",
      "day          0\n",
      "month        0\n",
      "duration     0\n",
      "campaign     0\n",
      "pdays        0\n",
      "previous     0\n",
      "poutcome     0\n",
      "y            0\n",
      "dtype: int64\n",
      "\n",
      "\n",
      "Column is: housing\n",
      "age          0\n",
      "job          0\n",
      "marital      0\n",
      "education    0\n",
      "default      0\n",
      "balance      0\n",
      "housing      0\n",
      "loan         0\n",
      "contact      0\n",
      "day          0\n",
      "month        0\n",
      "duration     0\n",
      "campaign     0\n",
      "pdays        0\n",
      "previous     0\n",
      "poutcome     0\n",
      "y            0\n",
      "dtype: int64\n",
      "\n",
      "\n",
      "Column is: loan\n",
      "age          0\n",
      "job          0\n",
      "marital      0\n",
      "education    0\n",
      "default      0\n",
      "balance      0\n",
      "housing      0\n",
      "loan         0\n",
      "contact      0\n",
      "day          0\n",
      "month        0\n",
      "duration     0\n",
      "campaign     0\n",
      "pdays        0\n",
      "previous     0\n",
      "poutcome     0\n",
      "y            0\n",
      "dtype: int64\n",
      "\n",
      "\n",
      "Column is: contact\n",
      "age          1324\n",
      "job          1324\n",
      "marital      1324\n",
      "education    1324\n",
      "default      1324\n",
      "balance      1324\n",
      "housing      1324\n",
      "loan         1324\n",
      "contact      1324\n",
      "day          1324\n",
      "month        1324\n",
      "duration     1324\n",
      "campaign     1324\n",
      "pdays        1324\n",
      "previous     1324\n",
      "poutcome     1324\n",
      "y            1324\n",
      "dtype: int64\n",
      "\n",
      "\n",
      "Column is: day\n",
      "age          0\n",
      "job          0\n",
      "marital      0\n",
      "education    0\n",
      "default      0\n",
      "balance      0\n",
      "housing      0\n",
      "loan         0\n",
      "contact      0\n",
      "day          0\n",
      "month        0\n",
      "duration     0\n",
      "campaign     0\n",
      "pdays        0\n",
      "previous     0\n",
      "poutcome     0\n",
      "y            0\n",
      "dtype: int64\n",
      "\n",
      "\n",
      "Column is: month\n",
      "age          0\n",
      "job          0\n",
      "marital      0\n",
      "education    0\n",
      "default      0\n",
      "balance      0\n",
      "housing      0\n",
      "loan         0\n",
      "contact      0\n",
      "day          0\n",
      "month        0\n",
      "duration     0\n",
      "campaign     0\n",
      "pdays        0\n",
      "previous     0\n",
      "poutcome     0\n",
      "y            0\n",
      "dtype: int64\n",
      "\n",
      "\n",
      "Column is: duration\n",
      "age          0\n",
      "job          0\n",
      "marital      0\n",
      "education    0\n",
      "default      0\n",
      "balance      0\n",
      "housing      0\n",
      "loan         0\n",
      "contact      0\n",
      "day          0\n",
      "month        0\n",
      "duration     0\n",
      "campaign     0\n",
      "pdays        0\n",
      "previous     0\n",
      "poutcome     0\n",
      "y            0\n",
      "dtype: int64\n",
      "\n",
      "\n",
      "Column is: campaign\n",
      "age          0\n",
      "job          0\n",
      "marital      0\n",
      "education    0\n",
      "default      0\n",
      "balance      0\n",
      "housing      0\n",
      "loan         0\n",
      "contact      0\n",
      "day          0\n",
      "month        0\n",
      "duration     0\n",
      "campaign     0\n",
      "pdays        0\n",
      "previous     0\n",
      "poutcome     0\n",
      "y            0\n",
      "dtype: int64\n",
      "\n",
      "\n",
      "Column is: pdays\n",
      "age          0\n",
      "job          0\n",
      "marital      0\n",
      "education    0\n",
      "default      0\n",
      "balance      0\n",
      "housing      0\n",
      "loan         0\n",
      "contact      0\n",
      "day          0\n",
      "month        0\n",
      "duration     0\n",
      "campaign     0\n",
      "pdays        0\n",
      "previous     0\n",
      "poutcome     0\n",
      "y            0\n",
      "dtype: int64\n",
      "\n",
      "\n",
      "Column is: previous\n",
      "age          0\n",
      "job          0\n",
      "marital      0\n",
      "education    0\n",
      "default      0\n",
      "balance      0\n",
      "housing      0\n",
      "loan         0\n",
      "contact      0\n",
      "day          0\n",
      "month        0\n",
      "duration     0\n",
      "campaign     0\n",
      "pdays        0\n",
      "previous     0\n",
      "poutcome     0\n",
      "y            0\n",
      "dtype: int64\n",
      "\n",
      "\n",
      "Column is: poutcome\n",
      "age          3705\n",
      "job          3705\n",
      "marital      3705\n",
      "education    3705\n",
      "default      3705\n",
      "balance      3705\n",
      "housing      3705\n",
      "loan         3705\n",
      "contact      3705\n",
      "day          3705\n",
      "month        3705\n",
      "duration     3705\n",
      "campaign     3705\n",
      "pdays        3705\n",
      "previous     3705\n",
      "poutcome     3705\n",
      "y            3705\n",
      "dtype: int64\n",
      "\n",
      "\n",
      "Column is: y\n",
      "age          0\n",
      "job          0\n",
      "marital      0\n",
      "education    0\n",
      "default      0\n",
      "balance      0\n",
      "housing      0\n",
      "loan         0\n",
      "contact      0\n",
      "day          0\n",
      "month        0\n",
      "duration     0\n",
      "campaign     0\n",
      "pdays        0\n",
      "previous     0\n",
      "poutcome     0\n",
      "y            0\n",
      "dtype: int64\n",
      "\n",
      "\n"
     ]
    }
   ],
   "source": [
    "columns= ['age', 'job', 'marital', 'education', 'default', 'balance', 'housing',\n",
    "       'loan', 'contact', 'day', 'month', 'duration', 'campaign', 'pdays',\n",
    "       'previous', 'poutcome', 'y']\n",
    "for i in columns:\n",
    "    print('Column is:',i)\n",
    "    print(df[df[i]== 'unknown'].count())\n",
    "    print('\\n')"
   ]
  },
  {
   "cell_type": "code",
   "execution_count": 7,
   "id": "1d06134a",
   "metadata": {},
   "outputs": [
    {
     "data": {
      "text/plain": [
       "81.95089581950896"
      ]
     },
     "execution_count": 7,
     "metadata": {},
     "output_type": "execute_result"
    }
   ],
   "source": [
    "3705/4521*100"
   ]
  },
  {
   "cell_type": "code",
   "execution_count": 8,
   "id": "78381569",
   "metadata": {},
   "outputs": [
    {
     "data": {
      "text/html": [
       "<div>\n",
       "<style scoped>\n",
       "    .dataframe tbody tr th:only-of-type {\n",
       "        vertical-align: middle;\n",
       "    }\n",
       "\n",
       "    .dataframe tbody tr th {\n",
       "        vertical-align: top;\n",
       "    }\n",
       "\n",
       "    .dataframe thead th {\n",
       "        text-align: right;\n",
       "    }\n",
       "</style>\n",
       "<table border=\"1\" class=\"dataframe\">\n",
       "  <thead>\n",
       "    <tr style=\"text-align: right;\">\n",
       "      <th></th>\n",
       "      <th>age</th>\n",
       "      <th>job</th>\n",
       "      <th>marital</th>\n",
       "      <th>education</th>\n",
       "      <th>default</th>\n",
       "      <th>balance</th>\n",
       "      <th>housing</th>\n",
       "      <th>loan</th>\n",
       "      <th>contact</th>\n",
       "      <th>day</th>\n",
       "      <th>month</th>\n",
       "      <th>duration</th>\n",
       "      <th>campaign</th>\n",
       "      <th>pdays</th>\n",
       "      <th>previous</th>\n",
       "      <th>y</th>\n",
       "    </tr>\n",
       "  </thead>\n",
       "  <tbody>\n",
       "    <tr>\n",
       "      <th>0</th>\n",
       "      <td>30</td>\n",
       "      <td>unemployed</td>\n",
       "      <td>married</td>\n",
       "      <td>primary</td>\n",
       "      <td>no</td>\n",
       "      <td>1787</td>\n",
       "      <td>no</td>\n",
       "      <td>no</td>\n",
       "      <td>cellular</td>\n",
       "      <td>19</td>\n",
       "      <td>oct</td>\n",
       "      <td>79</td>\n",
       "      <td>1</td>\n",
       "      <td>-1</td>\n",
       "      <td>0</td>\n",
       "      <td>no</td>\n",
       "    </tr>\n",
       "    <tr>\n",
       "      <th>1</th>\n",
       "      <td>33</td>\n",
       "      <td>services</td>\n",
       "      <td>married</td>\n",
       "      <td>secondary</td>\n",
       "      <td>no</td>\n",
       "      <td>4789</td>\n",
       "      <td>yes</td>\n",
       "      <td>yes</td>\n",
       "      <td>cellular</td>\n",
       "      <td>11</td>\n",
       "      <td>may</td>\n",
       "      <td>220</td>\n",
       "      <td>1</td>\n",
       "      <td>339</td>\n",
       "      <td>4</td>\n",
       "      <td>no</td>\n",
       "    </tr>\n",
       "    <tr>\n",
       "      <th>2</th>\n",
       "      <td>35</td>\n",
       "      <td>management</td>\n",
       "      <td>single</td>\n",
       "      <td>tertiary</td>\n",
       "      <td>no</td>\n",
       "      <td>1350</td>\n",
       "      <td>yes</td>\n",
       "      <td>no</td>\n",
       "      <td>cellular</td>\n",
       "      <td>16</td>\n",
       "      <td>apr</td>\n",
       "      <td>185</td>\n",
       "      <td>1</td>\n",
       "      <td>330</td>\n",
       "      <td>1</td>\n",
       "      <td>no</td>\n",
       "    </tr>\n",
       "    <tr>\n",
       "      <th>3</th>\n",
       "      <td>30</td>\n",
       "      <td>management</td>\n",
       "      <td>married</td>\n",
       "      <td>tertiary</td>\n",
       "      <td>no</td>\n",
       "      <td>1476</td>\n",
       "      <td>yes</td>\n",
       "      <td>yes</td>\n",
       "      <td>unknown</td>\n",
       "      <td>3</td>\n",
       "      <td>jun</td>\n",
       "      <td>199</td>\n",
       "      <td>4</td>\n",
       "      <td>-1</td>\n",
       "      <td>0</td>\n",
       "      <td>no</td>\n",
       "    </tr>\n",
       "    <tr>\n",
       "      <th>4</th>\n",
       "      <td>59</td>\n",
       "      <td>blue-collar</td>\n",
       "      <td>married</td>\n",
       "      <td>secondary</td>\n",
       "      <td>no</td>\n",
       "      <td>0</td>\n",
       "      <td>yes</td>\n",
       "      <td>no</td>\n",
       "      <td>unknown</td>\n",
       "      <td>5</td>\n",
       "      <td>may</td>\n",
       "      <td>226</td>\n",
       "      <td>1</td>\n",
       "      <td>-1</td>\n",
       "      <td>0</td>\n",
       "      <td>no</td>\n",
       "    </tr>\n",
       "  </tbody>\n",
       "</table>\n",
       "</div>"
      ],
      "text/plain": [
       "   age          job  marital  education default  balance housing loan  \\\n",
       "0   30   unemployed  married    primary      no     1787      no   no   \n",
       "1   33     services  married  secondary      no     4789     yes  yes   \n",
       "2   35   management   single   tertiary      no     1350     yes   no   \n",
       "3   30   management  married   tertiary      no     1476     yes  yes   \n",
       "4   59  blue-collar  married  secondary      no        0     yes   no   \n",
       "\n",
       "    contact  day month  duration  campaign  pdays  previous   y  \n",
       "0  cellular   19   oct        79         1     -1         0  no  \n",
       "1  cellular   11   may       220         1    339         4  no  \n",
       "2  cellular   16   apr       185         1    330         1  no  \n",
       "3   unknown    3   jun       199         4     -1         0  no  \n",
       "4   unknown    5   may       226         1     -1         0  no  "
      ]
     },
     "execution_count": 8,
     "metadata": {},
     "output_type": "execute_result"
    }
   ],
   "source": [
    "# poutcome contain 82% unknown Records this can affect our model.\n",
    "df.drop('poutcome',axis=1,inplace= True)\n",
    "df.head()"
   ]
  },
  {
   "cell_type": "code",
   "execution_count": null,
   "id": "846903d1",
   "metadata": {},
   "outputs": [],
   "source": []
  },
  {
   "cell_type": "markdown",
   "id": "e3ce6ca5",
   "metadata": {},
   "source": [
    "# Converting categorical into numeric"
   ]
  },
  {
   "cell_type": "code",
   "execution_count": 9,
   "id": "823ed2a6",
   "metadata": {},
   "outputs": [
    {
     "name": "stdout",
     "output_type": "stream",
     "text": [
      "[0 1]\n",
      "[0 1]\n",
      "[0 1]\n",
      "[0 1]\n"
     ]
    }
   ],
   "source": [
    "columns=['default','housing','loan','y']\n",
    "for i in columns:\n",
    "    df[i]= df[i].map({'no':0,'yes':1})\n",
    "    print(df[i].unique())"
   ]
  },
  {
   "cell_type": "code",
   "execution_count": 10,
   "id": "2b5250c7",
   "metadata": {},
   "outputs": [
    {
     "data": {
      "text/html": [
       "<div>\n",
       "<style scoped>\n",
       "    .dataframe tbody tr th:only-of-type {\n",
       "        vertical-align: middle;\n",
       "    }\n",
       "\n",
       "    .dataframe tbody tr th {\n",
       "        vertical-align: top;\n",
       "    }\n",
       "\n",
       "    .dataframe thead th {\n",
       "        text-align: right;\n",
       "    }\n",
       "</style>\n",
       "<table border=\"1\" class=\"dataframe\">\n",
       "  <thead>\n",
       "    <tr style=\"text-align: right;\">\n",
       "      <th></th>\n",
       "      <th>age</th>\n",
       "      <th>job</th>\n",
       "      <th>marital</th>\n",
       "      <th>education</th>\n",
       "      <th>default</th>\n",
       "      <th>balance</th>\n",
       "      <th>housing</th>\n",
       "      <th>loan</th>\n",
       "      <th>contact</th>\n",
       "      <th>day</th>\n",
       "      <th>month</th>\n",
       "      <th>duration</th>\n",
       "      <th>campaign</th>\n",
       "      <th>pdays</th>\n",
       "      <th>previous</th>\n",
       "      <th>y</th>\n",
       "    </tr>\n",
       "  </thead>\n",
       "  <tbody>\n",
       "    <tr>\n",
       "      <th>0</th>\n",
       "      <td>30</td>\n",
       "      <td>unemployed</td>\n",
       "      <td>married</td>\n",
       "      <td>primary</td>\n",
       "      <td>0</td>\n",
       "      <td>1787</td>\n",
       "      <td>0</td>\n",
       "      <td>0</td>\n",
       "      <td>cellular</td>\n",
       "      <td>19</td>\n",
       "      <td>oct</td>\n",
       "      <td>79</td>\n",
       "      <td>1</td>\n",
       "      <td>-1</td>\n",
       "      <td>0</td>\n",
       "      <td>0</td>\n",
       "    </tr>\n",
       "    <tr>\n",
       "      <th>1</th>\n",
       "      <td>33</td>\n",
       "      <td>services</td>\n",
       "      <td>married</td>\n",
       "      <td>secondary</td>\n",
       "      <td>0</td>\n",
       "      <td>4789</td>\n",
       "      <td>1</td>\n",
       "      <td>1</td>\n",
       "      <td>cellular</td>\n",
       "      <td>11</td>\n",
       "      <td>may</td>\n",
       "      <td>220</td>\n",
       "      <td>1</td>\n",
       "      <td>339</td>\n",
       "      <td>4</td>\n",
       "      <td>0</td>\n",
       "    </tr>\n",
       "    <tr>\n",
       "      <th>2</th>\n",
       "      <td>35</td>\n",
       "      <td>management</td>\n",
       "      <td>single</td>\n",
       "      <td>tertiary</td>\n",
       "      <td>0</td>\n",
       "      <td>1350</td>\n",
       "      <td>1</td>\n",
       "      <td>0</td>\n",
       "      <td>cellular</td>\n",
       "      <td>16</td>\n",
       "      <td>apr</td>\n",
       "      <td>185</td>\n",
       "      <td>1</td>\n",
       "      <td>330</td>\n",
       "      <td>1</td>\n",
       "      <td>0</td>\n",
       "    </tr>\n",
       "    <tr>\n",
       "      <th>3</th>\n",
       "      <td>30</td>\n",
       "      <td>management</td>\n",
       "      <td>married</td>\n",
       "      <td>tertiary</td>\n",
       "      <td>0</td>\n",
       "      <td>1476</td>\n",
       "      <td>1</td>\n",
       "      <td>1</td>\n",
       "      <td>unknown</td>\n",
       "      <td>3</td>\n",
       "      <td>jun</td>\n",
       "      <td>199</td>\n",
       "      <td>4</td>\n",
       "      <td>-1</td>\n",
       "      <td>0</td>\n",
       "      <td>0</td>\n",
       "    </tr>\n",
       "    <tr>\n",
       "      <th>4</th>\n",
       "      <td>59</td>\n",
       "      <td>blue-collar</td>\n",
       "      <td>married</td>\n",
       "      <td>secondary</td>\n",
       "      <td>0</td>\n",
       "      <td>0</td>\n",
       "      <td>1</td>\n",
       "      <td>0</td>\n",
       "      <td>unknown</td>\n",
       "      <td>5</td>\n",
       "      <td>may</td>\n",
       "      <td>226</td>\n",
       "      <td>1</td>\n",
       "      <td>-1</td>\n",
       "      <td>0</td>\n",
       "      <td>0</td>\n",
       "    </tr>\n",
       "  </tbody>\n",
       "</table>\n",
       "</div>"
      ],
      "text/plain": [
       "   age          job  marital  education  default  balance  housing  loan  \\\n",
       "0   30   unemployed  married    primary        0     1787        0     0   \n",
       "1   33     services  married  secondary        0     4789        1     1   \n",
       "2   35   management   single   tertiary        0     1350        1     0   \n",
       "3   30   management  married   tertiary        0     1476        1     1   \n",
       "4   59  blue-collar  married  secondary        0        0        1     0   \n",
       "\n",
       "    contact  day month  duration  campaign  pdays  previous  y  \n",
       "0  cellular   19   oct        79         1     -1         0  0  \n",
       "1  cellular   11   may       220         1    339         4  0  \n",
       "2  cellular   16   apr       185         1    330         1  0  \n",
       "3   unknown    3   jun       199         4     -1         0  0  \n",
       "4   unknown    5   may       226         1     -1         0  0  "
      ]
     },
     "execution_count": 10,
     "metadata": {},
     "output_type": "execute_result"
    }
   ],
   "source": [
    "df.head()"
   ]
  },
  {
   "cell_type": "code",
   "execution_count": 11,
   "id": "b158fa56",
   "metadata": {},
   "outputs": [
    {
     "data": {
      "text/plain": [
       "array(['cellular', 'unknown', 'telephone'], dtype=object)"
      ]
     },
     "execution_count": 11,
     "metadata": {},
     "output_type": "execute_result"
    }
   ],
   "source": [
    "df.contact.unique()"
   ]
  },
  {
   "cell_type": "code",
   "execution_count": 12,
   "id": "596cce6f",
   "metadata": {},
   "outputs": [],
   "source": [
    "df.month= df['month'].map({'oct':10, 'may':5, 'apr':4, 'jun':6, 'feb':2, 'aug':8, 'jan':1, 'jul':7, 'nov':11,'sep':9, 'mar':3, 'dec':12})\n",
    "df.marital= df['marital'].map({'married':1, 'single':0, 'divorced':2})\n",
    "df.education= df['education'].map({'primary':1, 'secondary':2, 'tertiary':3, 'unknown':0})\n",
    "df.contact= df['contact'].map({'cellular':1, 'unknown':0, 'telephone':2})\n"
   ]
  },
  {
   "cell_type": "code",
   "execution_count": 13,
   "id": "1f8f5139",
   "metadata": {},
   "outputs": [
    {
     "data": {
      "text/html": [
       "<div>\n",
       "<style scoped>\n",
       "    .dataframe tbody tr th:only-of-type {\n",
       "        vertical-align: middle;\n",
       "    }\n",
       "\n",
       "    .dataframe tbody tr th {\n",
       "        vertical-align: top;\n",
       "    }\n",
       "\n",
       "    .dataframe thead th {\n",
       "        text-align: right;\n",
       "    }\n",
       "</style>\n",
       "<table border=\"1\" class=\"dataframe\">\n",
       "  <thead>\n",
       "    <tr style=\"text-align: right;\">\n",
       "      <th></th>\n",
       "      <th>age</th>\n",
       "      <th>job</th>\n",
       "      <th>marital</th>\n",
       "      <th>education</th>\n",
       "      <th>default</th>\n",
       "      <th>balance</th>\n",
       "      <th>housing</th>\n",
       "      <th>loan</th>\n",
       "      <th>contact</th>\n",
       "      <th>day</th>\n",
       "      <th>month</th>\n",
       "      <th>duration</th>\n",
       "      <th>campaign</th>\n",
       "      <th>pdays</th>\n",
       "      <th>previous</th>\n",
       "      <th>y</th>\n",
       "    </tr>\n",
       "  </thead>\n",
       "  <tbody>\n",
       "    <tr>\n",
       "      <th>0</th>\n",
       "      <td>30</td>\n",
       "      <td>unemployed</td>\n",
       "      <td>1</td>\n",
       "      <td>1</td>\n",
       "      <td>0</td>\n",
       "      <td>1787</td>\n",
       "      <td>0</td>\n",
       "      <td>0</td>\n",
       "      <td>1</td>\n",
       "      <td>19</td>\n",
       "      <td>10</td>\n",
       "      <td>79</td>\n",
       "      <td>1</td>\n",
       "      <td>-1</td>\n",
       "      <td>0</td>\n",
       "      <td>0</td>\n",
       "    </tr>\n",
       "    <tr>\n",
       "      <th>1</th>\n",
       "      <td>33</td>\n",
       "      <td>services</td>\n",
       "      <td>1</td>\n",
       "      <td>2</td>\n",
       "      <td>0</td>\n",
       "      <td>4789</td>\n",
       "      <td>1</td>\n",
       "      <td>1</td>\n",
       "      <td>1</td>\n",
       "      <td>11</td>\n",
       "      <td>5</td>\n",
       "      <td>220</td>\n",
       "      <td>1</td>\n",
       "      <td>339</td>\n",
       "      <td>4</td>\n",
       "      <td>0</td>\n",
       "    </tr>\n",
       "    <tr>\n",
       "      <th>2</th>\n",
       "      <td>35</td>\n",
       "      <td>management</td>\n",
       "      <td>0</td>\n",
       "      <td>3</td>\n",
       "      <td>0</td>\n",
       "      <td>1350</td>\n",
       "      <td>1</td>\n",
       "      <td>0</td>\n",
       "      <td>1</td>\n",
       "      <td>16</td>\n",
       "      <td>4</td>\n",
       "      <td>185</td>\n",
       "      <td>1</td>\n",
       "      <td>330</td>\n",
       "      <td>1</td>\n",
       "      <td>0</td>\n",
       "    </tr>\n",
       "    <tr>\n",
       "      <th>3</th>\n",
       "      <td>30</td>\n",
       "      <td>management</td>\n",
       "      <td>1</td>\n",
       "      <td>3</td>\n",
       "      <td>0</td>\n",
       "      <td>1476</td>\n",
       "      <td>1</td>\n",
       "      <td>1</td>\n",
       "      <td>0</td>\n",
       "      <td>3</td>\n",
       "      <td>6</td>\n",
       "      <td>199</td>\n",
       "      <td>4</td>\n",
       "      <td>-1</td>\n",
       "      <td>0</td>\n",
       "      <td>0</td>\n",
       "    </tr>\n",
       "    <tr>\n",
       "      <th>4</th>\n",
       "      <td>59</td>\n",
       "      <td>blue-collar</td>\n",
       "      <td>1</td>\n",
       "      <td>2</td>\n",
       "      <td>0</td>\n",
       "      <td>0</td>\n",
       "      <td>1</td>\n",
       "      <td>0</td>\n",
       "      <td>0</td>\n",
       "      <td>5</td>\n",
       "      <td>5</td>\n",
       "      <td>226</td>\n",
       "      <td>1</td>\n",
       "      <td>-1</td>\n",
       "      <td>0</td>\n",
       "      <td>0</td>\n",
       "    </tr>\n",
       "  </tbody>\n",
       "</table>\n",
       "</div>"
      ],
      "text/plain": [
       "   age          job  marital  education  default  balance  housing  loan  \\\n",
       "0   30   unemployed        1          1        0     1787        0     0   \n",
       "1   33     services        1          2        0     4789        1     1   \n",
       "2   35   management        0          3        0     1350        1     0   \n",
       "3   30   management        1          3        0     1476        1     1   \n",
       "4   59  blue-collar        1          2        0        0        1     0   \n",
       "\n",
       "   contact  day  month  duration  campaign  pdays  previous  y  \n",
       "0        1   19     10        79         1     -1         0  0  \n",
       "1        1   11      5       220         1    339         4  0  \n",
       "2        1   16      4       185         1    330         1  0  \n",
       "3        0    3      6       199         4     -1         0  0  \n",
       "4        0    5      5       226         1     -1         0  0  "
      ]
     },
     "execution_count": 13,
     "metadata": {},
     "output_type": "execute_result"
    }
   ],
   "source": [
    "df.head()"
   ]
  },
  {
   "cell_type": "code",
   "execution_count": 14,
   "id": "c7c2c641",
   "metadata": {},
   "outputs": [],
   "source": [
    "from sklearn.preprocessing import LabelEncoder"
   ]
  },
  {
   "cell_type": "code",
   "execution_count": 15,
   "id": "11b588d3",
   "metadata": {},
   "outputs": [
    {
     "data": {
      "text/html": [
       "<div>\n",
       "<style scoped>\n",
       "    .dataframe tbody tr th:only-of-type {\n",
       "        vertical-align: middle;\n",
       "    }\n",
       "\n",
       "    .dataframe tbody tr th {\n",
       "        vertical-align: top;\n",
       "    }\n",
       "\n",
       "    .dataframe thead th {\n",
       "        text-align: right;\n",
       "    }\n",
       "</style>\n",
       "<table border=\"1\" class=\"dataframe\">\n",
       "  <thead>\n",
       "    <tr style=\"text-align: right;\">\n",
       "      <th></th>\n",
       "      <th>age</th>\n",
       "      <th>job</th>\n",
       "      <th>marital</th>\n",
       "      <th>education</th>\n",
       "      <th>default</th>\n",
       "      <th>balance</th>\n",
       "      <th>housing</th>\n",
       "      <th>loan</th>\n",
       "      <th>contact</th>\n",
       "      <th>day</th>\n",
       "      <th>month</th>\n",
       "      <th>duration</th>\n",
       "      <th>campaign</th>\n",
       "      <th>pdays</th>\n",
       "      <th>previous</th>\n",
       "      <th>y</th>\n",
       "    </tr>\n",
       "  </thead>\n",
       "  <tbody>\n",
       "    <tr>\n",
       "      <th>0</th>\n",
       "      <td>30</td>\n",
       "      <td>10</td>\n",
       "      <td>1</td>\n",
       "      <td>1</td>\n",
       "      <td>0</td>\n",
       "      <td>1787</td>\n",
       "      <td>0</td>\n",
       "      <td>0</td>\n",
       "      <td>1</td>\n",
       "      <td>19</td>\n",
       "      <td>10</td>\n",
       "      <td>79</td>\n",
       "      <td>1</td>\n",
       "      <td>-1</td>\n",
       "      <td>0</td>\n",
       "      <td>0</td>\n",
       "    </tr>\n",
       "    <tr>\n",
       "      <th>1</th>\n",
       "      <td>33</td>\n",
       "      <td>7</td>\n",
       "      <td>1</td>\n",
       "      <td>2</td>\n",
       "      <td>0</td>\n",
       "      <td>4789</td>\n",
       "      <td>1</td>\n",
       "      <td>1</td>\n",
       "      <td>1</td>\n",
       "      <td>11</td>\n",
       "      <td>5</td>\n",
       "      <td>220</td>\n",
       "      <td>1</td>\n",
       "      <td>339</td>\n",
       "      <td>4</td>\n",
       "      <td>0</td>\n",
       "    </tr>\n",
       "    <tr>\n",
       "      <th>2</th>\n",
       "      <td>35</td>\n",
       "      <td>4</td>\n",
       "      <td>0</td>\n",
       "      <td>3</td>\n",
       "      <td>0</td>\n",
       "      <td>1350</td>\n",
       "      <td>1</td>\n",
       "      <td>0</td>\n",
       "      <td>1</td>\n",
       "      <td>16</td>\n",
       "      <td>4</td>\n",
       "      <td>185</td>\n",
       "      <td>1</td>\n",
       "      <td>330</td>\n",
       "      <td>1</td>\n",
       "      <td>0</td>\n",
       "    </tr>\n",
       "    <tr>\n",
       "      <th>3</th>\n",
       "      <td>30</td>\n",
       "      <td>4</td>\n",
       "      <td>1</td>\n",
       "      <td>3</td>\n",
       "      <td>0</td>\n",
       "      <td>1476</td>\n",
       "      <td>1</td>\n",
       "      <td>1</td>\n",
       "      <td>0</td>\n",
       "      <td>3</td>\n",
       "      <td>6</td>\n",
       "      <td>199</td>\n",
       "      <td>4</td>\n",
       "      <td>-1</td>\n",
       "      <td>0</td>\n",
       "      <td>0</td>\n",
       "    </tr>\n",
       "    <tr>\n",
       "      <th>4</th>\n",
       "      <td>59</td>\n",
       "      <td>1</td>\n",
       "      <td>1</td>\n",
       "      <td>2</td>\n",
       "      <td>0</td>\n",
       "      <td>0</td>\n",
       "      <td>1</td>\n",
       "      <td>0</td>\n",
       "      <td>0</td>\n",
       "      <td>5</td>\n",
       "      <td>5</td>\n",
       "      <td>226</td>\n",
       "      <td>1</td>\n",
       "      <td>-1</td>\n",
       "      <td>0</td>\n",
       "      <td>0</td>\n",
       "    </tr>\n",
       "  </tbody>\n",
       "</table>\n",
       "</div>"
      ],
      "text/plain": [
       "   age  job  marital  education  default  balance  housing  loan  contact  \\\n",
       "0   30   10        1          1        0     1787        0     0        1   \n",
       "1   33    7        1          2        0     4789        1     1        1   \n",
       "2   35    4        0          3        0     1350        1     0        1   \n",
       "3   30    4        1          3        0     1476        1     1        0   \n",
       "4   59    1        1          2        0        0        1     0        0   \n",
       "\n",
       "   day  month  duration  campaign  pdays  previous  y  \n",
       "0   19     10        79         1     -1         0  0  \n",
       "1   11      5       220         1    339         4  0  \n",
       "2   16      4       185         1    330         1  0  \n",
       "3    3      6       199         4     -1         0  0  \n",
       "4    5      5       226         1     -1         0  0  "
      ]
     },
     "execution_count": 15,
     "metadata": {},
     "output_type": "execute_result"
    }
   ],
   "source": [
    "label= LabelEncoder()\n",
    "df.job= label.fit_transform(df.job)\n",
    "df.head()"
   ]
  },
  {
   "cell_type": "code",
   "execution_count": 16,
   "id": "7d1ba438",
   "metadata": {},
   "outputs": [
    {
     "name": "stdout",
     "output_type": "stream",
     "text": [
      "<class 'pandas.core.frame.DataFrame'>\n",
      "RangeIndex: 4521 entries, 0 to 4520\n",
      "Data columns (total 16 columns):\n",
      " #   Column     Non-Null Count  Dtype\n",
      "---  ------     --------------  -----\n",
      " 0   age        4521 non-null   int64\n",
      " 1   job        4521 non-null   int32\n",
      " 2   marital    4521 non-null   int64\n",
      " 3   education  4521 non-null   int64\n",
      " 4   default    4521 non-null   int64\n",
      " 5   balance    4521 non-null   int64\n",
      " 6   housing    4521 non-null   int64\n",
      " 7   loan       4521 non-null   int64\n",
      " 8   contact    4521 non-null   int64\n",
      " 9   day        4521 non-null   int64\n",
      " 10  month      4521 non-null   int64\n",
      " 11  duration   4521 non-null   int64\n",
      " 12  campaign   4521 non-null   int64\n",
      " 13  pdays      4521 non-null   int64\n",
      " 14  previous   4521 non-null   int64\n",
      " 15  y          4521 non-null   int64\n",
      "dtypes: int32(1), int64(15)\n",
      "memory usage: 547.6 KB\n"
     ]
    }
   ],
   "source": [
    "df.info()"
   ]
  },
  {
   "cell_type": "markdown",
   "id": "a1ed5caf",
   "metadata": {},
   "source": [
    "# Checking & Processing Imabalance dataset"
   ]
  },
  {
   "cell_type": "code",
   "execution_count": 17,
   "id": "771de05f",
   "metadata": {},
   "outputs": [
    {
     "data": {
      "text/plain": [
       "0    4000\n",
       "1     521\n",
       "Name: y, dtype: int64"
      ]
     },
     "execution_count": 17,
     "metadata": {},
     "output_type": "execute_result"
    }
   ],
   "source": [
    "df.y.value_counts()"
   ]
  },
  {
   "cell_type": "code",
   "execution_count": 18,
   "id": "e1dbb92b",
   "metadata": {},
   "outputs": [],
   "source": [
    "x= df.drop(['y','duration'],axis=1)\n",
    "y= df.y"
   ]
  },
  {
   "cell_type": "code",
   "execution_count": 19,
   "id": "cb3e1f3e",
   "metadata": {},
   "outputs": [
    {
     "data": {
      "text/plain": [
       "0    3798\n",
       "1    3798\n",
       "Name: y, dtype: int64"
      ]
     },
     "execution_count": 19,
     "metadata": {},
     "output_type": "execute_result"
    }
   ],
   "source": [
    "smt= SMOTETomek()\n",
    "x_ne,y_ne= smt.fit_resample(x,y)\n",
    "y_ne.value_counts()"
   ]
  },
  {
   "cell_type": "code",
   "execution_count": 20,
   "id": "12c54f4e",
   "metadata": {},
   "outputs": [
    {
     "data": {
      "text/html": [
       "<div>\n",
       "<style scoped>\n",
       "    .dataframe tbody tr th:only-of-type {\n",
       "        vertical-align: middle;\n",
       "    }\n",
       "\n",
       "    .dataframe tbody tr th {\n",
       "        vertical-align: top;\n",
       "    }\n",
       "\n",
       "    .dataframe thead th {\n",
       "        text-align: right;\n",
       "    }\n",
       "</style>\n",
       "<table border=\"1\" class=\"dataframe\">\n",
       "  <thead>\n",
       "    <tr style=\"text-align: right;\">\n",
       "      <th></th>\n",
       "      <th>age</th>\n",
       "      <th>job</th>\n",
       "      <th>marital</th>\n",
       "      <th>education</th>\n",
       "      <th>default</th>\n",
       "      <th>balance</th>\n",
       "      <th>housing</th>\n",
       "      <th>loan</th>\n",
       "      <th>contact</th>\n",
       "      <th>day</th>\n",
       "      <th>month</th>\n",
       "      <th>campaign</th>\n",
       "      <th>pdays</th>\n",
       "      <th>previous</th>\n",
       "    </tr>\n",
       "  </thead>\n",
       "  <tbody>\n",
       "    <tr>\n",
       "      <th>0</th>\n",
       "      <td>30</td>\n",
       "      <td>10</td>\n",
       "      <td>1</td>\n",
       "      <td>1</td>\n",
       "      <td>0</td>\n",
       "      <td>1787</td>\n",
       "      <td>0</td>\n",
       "      <td>0</td>\n",
       "      <td>1</td>\n",
       "      <td>19</td>\n",
       "      <td>10</td>\n",
       "      <td>1</td>\n",
       "      <td>-1</td>\n",
       "      <td>0</td>\n",
       "    </tr>\n",
       "    <tr>\n",
       "      <th>1</th>\n",
       "      <td>33</td>\n",
       "      <td>7</td>\n",
       "      <td>1</td>\n",
       "      <td>2</td>\n",
       "      <td>0</td>\n",
       "      <td>4789</td>\n",
       "      <td>1</td>\n",
       "      <td>1</td>\n",
       "      <td>1</td>\n",
       "      <td>11</td>\n",
       "      <td>5</td>\n",
       "      <td>1</td>\n",
       "      <td>339</td>\n",
       "      <td>4</td>\n",
       "    </tr>\n",
       "    <tr>\n",
       "      <th>2</th>\n",
       "      <td>35</td>\n",
       "      <td>4</td>\n",
       "      <td>0</td>\n",
       "      <td>3</td>\n",
       "      <td>0</td>\n",
       "      <td>1350</td>\n",
       "      <td>1</td>\n",
       "      <td>0</td>\n",
       "      <td>1</td>\n",
       "      <td>16</td>\n",
       "      <td>4</td>\n",
       "      <td>1</td>\n",
       "      <td>330</td>\n",
       "      <td>1</td>\n",
       "    </tr>\n",
       "    <tr>\n",
       "      <th>3</th>\n",
       "      <td>30</td>\n",
       "      <td>4</td>\n",
       "      <td>1</td>\n",
       "      <td>3</td>\n",
       "      <td>0</td>\n",
       "      <td>1476</td>\n",
       "      <td>1</td>\n",
       "      <td>1</td>\n",
       "      <td>0</td>\n",
       "      <td>3</td>\n",
       "      <td>6</td>\n",
       "      <td>4</td>\n",
       "      <td>-1</td>\n",
       "      <td>0</td>\n",
       "    </tr>\n",
       "    <tr>\n",
       "      <th>4</th>\n",
       "      <td>59</td>\n",
       "      <td>1</td>\n",
       "      <td>1</td>\n",
       "      <td>2</td>\n",
       "      <td>0</td>\n",
       "      <td>0</td>\n",
       "      <td>1</td>\n",
       "      <td>0</td>\n",
       "      <td>0</td>\n",
       "      <td>5</td>\n",
       "      <td>5</td>\n",
       "      <td>1</td>\n",
       "      <td>-1</td>\n",
       "      <td>0</td>\n",
       "    </tr>\n",
       "  </tbody>\n",
       "</table>\n",
       "</div>"
      ],
      "text/plain": [
       "   age  job  marital  education  default  balance  housing  loan  contact  \\\n",
       "0   30   10        1          1        0     1787        0     0        1   \n",
       "1   33    7        1          2        0     4789        1     1        1   \n",
       "2   35    4        0          3        0     1350        1     0        1   \n",
       "3   30    4        1          3        0     1476        1     1        0   \n",
       "4   59    1        1          2        0        0        1     0        0   \n",
       "\n",
       "   day  month  campaign  pdays  previous  \n",
       "0   19     10         1     -1         0  \n",
       "1   11      5         1    339         4  \n",
       "2   16      4         1    330         1  \n",
       "3    3      6         4     -1         0  \n",
       "4    5      5         1     -1         0  "
      ]
     },
     "execution_count": 20,
     "metadata": {},
     "output_type": "execute_result"
    }
   ],
   "source": [
    "x.head()"
   ]
  },
  {
   "cell_type": "code",
   "execution_count": 21,
   "id": "29b44b40",
   "metadata": {},
   "outputs": [
    {
     "data": {
      "text/plain": [
       "0    0\n",
       "1    0\n",
       "2    0\n",
       "3    0\n",
       "4    0\n",
       "Name: y, dtype: int64"
      ]
     },
     "execution_count": 21,
     "metadata": {},
     "output_type": "execute_result"
    }
   ],
   "source": [
    "y.head()"
   ]
  },
  {
   "cell_type": "markdown",
   "id": "5192272a",
   "metadata": {},
   "source": [
    "# feature selection"
   ]
  },
  {
   "cell_type": "code",
   "execution_count": 22,
   "id": "f75d7ec3",
   "metadata": {},
   "outputs": [],
   "source": [
    "from sklearn.ensemble import RandomForestClassifier"
   ]
  },
  {
   "cell_type": "code",
   "execution_count": 24,
   "id": "848bf1fc",
   "metadata": {},
   "outputs": [
    {
     "data": {
      "text/plain": [
       "array([0.10515757, 0.09481962, 0.04438555, 0.04819983, 0.002038  ,\n",
       "       0.15609758, 0.1146185 , 0.04156782, 0.03146619, 0.11194266,\n",
       "       0.0935043 , 0.0579489 , 0.06263372, 0.03561978])"
      ]
     },
     "execution_count": 24,
     "metadata": {},
     "output_type": "execute_result"
    }
   ],
   "source": [
    "rf=RandomForestClassifier()\n",
    "feature=rf.fit(x_ne,y_ne)\n",
    "imp= feature.feature_importances_\n",
    "imp"
   ]
  },
  {
   "cell_type": "code",
   "execution_count": 25,
   "id": "09574025",
   "metadata": {},
   "outputs": [
    {
     "data": {
      "image/png": "[encoded data removed]",
      "text/plain": [
       "<Figure size 704x528 with 1 Axes>"
      ]
     },
     "metadata": {},
     "output_type": "display_data"
    }
   ],
   "source": [
    "plt.figure(dpi=110)\n",
    "plt.bar(x= x_ne.columns, height = imp)\n",
    "plt.xticks(rotation=90)\n",
    "plt.title('Feature Importances')\n",
    "plt.show()"
   ]
  },
  {
   "cell_type": "code",
   "execution_count": 26,
   "id": "b3a3837c",
   "metadata": {},
   "outputs": [],
   "source": [
    "# Lets drop the default column\n",
    "X= x_ne.drop('default',axis=1)\n",
    "Y= y_ne"
   ]
  },
  {
   "cell_type": "code",
   "execution_count": null,
   "id": "a71021a3",
   "metadata": {},
   "outputs": [],
   "source": []
  },
  {
   "cell_type": "code",
   "execution_count": 27,
   "id": "8c3f99da",
   "metadata": {},
   "outputs": [],
   "source": [
    "from sklearn.model_selection import train_test_split, cross_val_score,GridSearchCV\n",
    "from sklearn.linear_model import LogisticRegression\n",
    "from sklearn.ensemble import GradientBoostingClassifier\n",
    "from sklearn.metrics import *\n",
    "from sklearn.preprocessing import StandardScaler"
   ]
  },
  {
   "cell_type": "code",
   "execution_count": 28,
   "id": "15a42c02",
   "metadata": {},
   "outputs": [],
   "source": [
    "xtrain,xtest,ytrain,ytest= train_test_split(X,Y,test_size=0.2,random_state=10)"
   ]
  },
  {
   "cell_type": "code",
   "execution_count": 29,
   "id": "9c40f3b4",
   "metadata": {},
   "outputs": [
    {
     "data": {
      "text/plain": [
       "(6076, 13)"
      ]
     },
     "execution_count": 29,
     "metadata": {},
     "output_type": "execute_result"
    }
   ],
   "source": [
    "xtrain.shape"
   ]
  },
  {
   "cell_type": "code",
   "execution_count": 30,
   "id": "a4437887",
   "metadata": {},
   "outputs": [
    {
     "data": {
      "text/plain": [
       "(1520, 13)"
      ]
     },
     "execution_count": 30,
     "metadata": {},
     "output_type": "execute_result"
    }
   ],
   "source": [
    "xtest.shape"
   ]
  },
  {
   "cell_type": "code",
   "execution_count": 31,
   "id": "bcc17de9",
   "metadata": {},
   "outputs": [
    {
     "data": {
      "text/plain": [
       "(1520,)"
      ]
     },
     "execution_count": 31,
     "metadata": {},
     "output_type": "execute_result"
    }
   ],
   "source": [
    "ytest.shape"
   ]
  },
  {
   "cell_type": "code",
   "execution_count": 32,
   "id": "b3fdf6b4",
   "metadata": {},
   "outputs": [],
   "source": [
    "scale= StandardScaler()\n",
    "xtrain_scale= scale.fit_transform(xtrain)\n",
    "xtest_scale= scale.transform(xtest)"
   ]
  },
  {
   "cell_type": "code",
   "execution_count": 50,
   "id": "45502250",
   "metadata": {},
   "outputs": [],
   "source": [
    "def plot_roc_curve(true_y, y_prob):\n",
    "    \"\"\"\n",
    "    plots the roc curve based of the probabilities\n",
    "    \"\"\"\n",
    "\n",
    "    fpr, tpr, thresholds = roc_curve(true_y, y_prob)\n",
    "    plt.plot(fpr, tpr)\n",
    "    plt.xlabel('False Positive Rate')\n",
    "    plt.ylabel('True Positive Rate')"
   ]
  },
  {
   "cell_type": "markdown",
   "id": "91f1ce1a",
   "metadata": {},
   "source": [
    "# 1.Logistic Regression"
   ]
  },
  {
   "cell_type": "code",
   "execution_count": 46,
   "id": "cba573c9",
   "metadata": {},
   "outputs": [],
   "source": [
    "LR= LogisticRegression()"
   ]
  },
  {
   "cell_type": "markdown",
   "id": "800bf68b",
   "metadata": {},
   "source": [
    "# Without Tuning of Params"
   ]
  },
  {
   "cell_type": "code",
   "execution_count": 47,
   "id": "e8c5fa43",
   "metadata": {},
   "outputs": [],
   "source": [
    "LR.fit(xtrain_scale,ytrain)\n",
    "ytrain_pred= LR.predict(xtrain_scale)\n",
    "ytest_pred= LR.predict(xtest_scale)"
   ]
  },
  {
   "cell_type": "code",
   "execution_count": 48,
   "id": "09336101",
   "metadata": {},
   "outputs": [
    {
     "name": "stdout",
     "output_type": "stream",
     "text": [
      "              precision    recall  f1-score   support\n",
      "\n",
      "           0       0.75      0.69      0.72      3016\n",
      "           1       0.72      0.77      0.74      3060\n",
      "\n",
      "    accuracy                           0.73      6076\n",
      "   macro avg       0.73      0.73      0.73      6076\n",
      "weighted avg       0.73      0.73      0.73      6076\n",
      "\n",
      "[[2079  937]\n",
      " [ 694 2366]] \n",
      "\n",
      "Cross_val_score: 0.8925287761206973\n"
     ]
    }
   ],
   "source": [
    "print(classification_report(ytrain,ytrain_pred))\n",
    "print(confusion_matrix(ytrain,ytrain_pred),'\\n')\n",
    "cvs = cross_val_score(rf,xtrain_scale,ytrain,cv=10)\n",
    "print('Cross_val_score:',np.mean(cvs))"
   ]
  },
  {
   "cell_type": "code",
   "execution_count": 51,
   "id": "26100bf0",
   "metadata": {},
   "outputs": [
    {
     "name": "stdout",
     "output_type": "stream",
     "text": [
      "model 2 AUC score: 0.7312631109030703\n"
     ]
    },
    {
     "data": {
      "image/png": "[encoded data removed]",
      "text/plain": [
       "<Figure size 640x480 with 1 Axes>"
      ]
     },
     "metadata": {},
     "output_type": "display_data"
    }
   ],
   "source": [
    "plot_roc_curve(ytrain,ytrain_pred)\n",
    "print(f'model 2 AUC score: {roc_auc_score(ytrain, ytrain_pred)}')"
   ]
  },
  {
   "cell_type": "code",
   "execution_count": 52,
   "id": "1d8bf141",
   "metadata": {},
   "outputs": [
    {
     "name": "stdout",
     "output_type": "stream",
     "text": [
      "              precision    recall  f1-score   support\n",
      "\n",
      "           0       0.78      0.70      0.74       782\n",
      "           1       0.71      0.79      0.75       738\n",
      "\n",
      "    accuracy                           0.74      1520\n",
      "   macro avg       0.74      0.74      0.74      1520\n",
      "weighted avg       0.75      0.74      0.74      1520\n",
      "\n",
      "[[549 233]\n",
      " [158 580]] \n",
      "\n",
      "Cross_val_score: 0.832236842105263\n"
     ]
    }
   ],
   "source": [
    "print(classification_report(ytest,ytest_pred))\n",
    "print(confusion_matrix(ytest,ytest_pred),'\\n')\n",
    "cvs = cross_val_score(rf,xtest_scale,ytest,cv=10)\n",
    "print('Cross_val_score:',np.mean(cvs))"
   ]
  },
  {
   "cell_type": "code",
   "execution_count": 53,
   "id": "e3bf5e1d",
   "metadata": {},
   "outputs": [
    {
     "name": "stdout",
     "output_type": "stream",
     "text": [
      "model 2 AUC score: 0.7439769474421087\n"
     ]
    },
    {
     "data": {
      "image/png": "[encoded data removed]",
      "text/plain": [
       "<Figure size 640x480 with 1 Axes>"
      ]
     },
     "metadata": {},
     "output_type": "display_data"
    }
   ],
   "source": [
    "plot_roc_curve(ytest,ytest_pred)\n",
    "print(f'model 2 AUC score: {roc_auc_score(ytest, ytest_pred)}')"
   ]
  },
  {
   "cell_type": "markdown",
   "id": "9405986d",
   "metadata": {},
   "source": [
    "# With Tuning Params"
   ]
  },
  {
   "cell_type": "code",
   "execution_count": 106,
   "id": "e98b4ea9",
   "metadata": {},
   "outputs": [],
   "source": [
    "params = {}\n",
    "params['penalty'] = ['l1', 'l2', 'elasticnet']\n",
    "params['solver'] = ['lbfgs','liblinear']\n",
    "params['max_iter']=[1000,5000,10000]\n",
    "params['random_state']= [7,10,100]"
   ]
  },
  {
   "cell_type": "code",
   "execution_count": 107,
   "id": "98d4acaa",
   "metadata": {},
   "outputs": [],
   "source": [
    "model = GridSearchCV(LR,param_grid=params,cv=5,scoring='f1',verbose=3)"
   ]
  },
  {
   "cell_type": "code",
   "execution_count": 108,
   "id": "c9ae487f",
   "metadata": {},
   "outputs": [
    {
     "name": "stdout",
     "output_type": "stream",
     "text": [
      "Fitting 5 folds for each of 54 candidates, totalling 270 fits\n",
      "[CV 1/5] END max_iter=1000, penalty=l1, random_state=7, solver=lbfgs;, score=nan total time=   0.0s\n",
      "[CV 2/5] END max_iter=1000, penalty=l1, random_state=7, solver=lbfgs;, score=nan total time=   0.0s\n",
      "[CV 3/5] END max_iter=1000, penalty=l1, random_state=7, solver=lbfgs;, score=nan total time=   0.0s\n",
      "[CV 4/5] END max_iter=1000, penalty=l1, random_state=7, solver=lbfgs;, score=nan total time=   0.0s\n",
      "[CV 5/5] END max_iter=1000, penalty=l1, random_state=7, solver=lbfgs;, score=nan total time=   0.0s\n",
      "[CV 1/5] END max_iter=1000, penalty=l1, random_state=7, solver=liblinear;, score=0.738 total time=   0.0s\n",
      "[CV 2/5] END max_iter=1000, penalty=l1, random_state=7, solver=liblinear;, score=0.742 total time=   0.0s\n",
      "[CV 3/5] END max_iter=1000, penalty=l1, random_state=7, solver=liblinear;, score=0.741 total time=   0.0s\n",
      "[CV 4/5] END max_iter=1000, penalty=l1, random_state=7, solver=liblinear;, score=0.746 total time=   0.0s\n",
      "[CV 5/5] END max_iter=1000, penalty=l1, random_state=7, solver=liblinear;, score=0.755 total time=   0.0s\n",
      "[CV 1/5] END max_iter=1000, penalty=l1, random_state=10, solver=lbfgs;, score=nan total time=   0.0s\n",
      "[CV 2/5] END max_iter=1000, penalty=l1, random_state=10, solver=lbfgs;, score=nan total time=   0.0s\n",
      "[CV 3/5] END max_iter=1000, penalty=l1, random_state=10, solver=lbfgs;, score=nan total time=   0.0s\n",
      "[CV 4/5] END max_iter=1000, penalty=l1, random_state=10, solver=lbfgs;, score=nan total time=   0.0s\n",
      "[CV 5/5] END max_iter=1000, penalty=l1, random_state=10, solver=lbfgs;, score=nan total time=   0.0s\n",
      "[CV 1/5] END max_iter=1000, penalty=l1, random_state=10, solver=liblinear;, score=0.738 total time=   0.0s\n",
      "[CV 2/5] END max_iter=1000, penalty=l1, random_state=10, solver=liblinear;, score=0.742 total time=   0.0s\n",
      "[CV 3/5] END max_iter=1000, penalty=l1, random_state=10, solver=liblinear;, score=0.741 total time=   0.0s\n",
      "[CV 4/5] END max_iter=1000, penalty=l1, random_state=10, solver=liblinear;, score=0.746 total time=   0.0s\n",
      "[CV 5/5] END max_iter=1000, penalty=l1, random_state=10, solver=liblinear;, score=0.755 total time=   0.0s\n",
      "[CV 1/5] END max_iter=1000, penalty=l1, random_state=100, solver=lbfgs;, score=nan total time=   0.0s\n",
      "[CV 2/5] END max_iter=1000, penalty=l1, random_state=100, solver=lbfgs;, score=nan total time=   0.0s\n",
      "[CV 3/5] END max_iter=1000, penalty=l1, random_state=100, solver=lbfgs;, score=nan total time=   0.0s\n",
      "[CV 4/5] END max_iter=1000, penalty=l1, random_state=100, solver=lbfgs;, score=nan total time=   0.0s\n",
      "[CV 5/5] END max_iter=1000, penalty=l1, random_state=100, solver=lbfgs;, score=nan total time=   0.0s\n",
      "[CV 1/5] END max_iter=1000, penalty=l1, random_state=100, solver=liblinear;, score=0.738 total time=   0.0s\n",
      "[CV 2/5] END max_iter=1000, penalty=l1, random_state=100, solver=liblinear;, score=0.742 total time=   0.0s\n",
      "[CV 3/5] END max_iter=1000, penalty=l1, random_state=100, solver=liblinear;, score=0.741 total time=   0.0s\n",
      "[CV 4/5] END max_iter=1000, penalty=l1, random_state=100, solver=liblinear;, score=0.746 total time=   0.0s\n",
      "[CV 5/5] END max_iter=1000, penalty=l1, random_state=100, solver=liblinear;, score=0.755 total time=   0.0s\n",
      "[CV 1/5] END max_iter=1000, penalty=l2, random_state=7, solver=lbfgs;, score=0.737 total time=   0.0s\n",
      "[CV 2/5] END max_iter=1000, penalty=l2, random_state=7, solver=lbfgs;, score=0.742 total time=   0.0s\n",
      "[CV 3/5] END max_iter=1000, penalty=l2, random_state=7, solver=lbfgs;, score=0.741 total time=   0.0s\n",
      "[CV 4/5] END max_iter=1000, penalty=l2, random_state=7, solver=lbfgs;, score=0.745 total time=   0.0s\n",
      "[CV 5/5] END max_iter=1000, penalty=l2, random_state=7, solver=lbfgs;, score=0.755 total time=   0.0s\n",
      "[CV 1/5] END max_iter=1000, penalty=l2, random_state=7, solver=liblinear;, score=0.737 total time=   0.0s\n",
      "[CV 2/5] END max_iter=1000, penalty=l2, random_state=7, solver=liblinear;, score=0.742 total time=   0.0s\n",
      "[CV 3/5] END max_iter=1000, penalty=l2, random_state=7, solver=liblinear;, score=0.741 total time=   0.0s\n",
      "[CV 4/5] END max_iter=1000, penalty=l2, random_state=7, solver=liblinear;, score=0.745 total time=   0.0s\n",
      "[CV 5/5] END max_iter=1000, penalty=l2, random_state=7, solver=liblinear;, score=0.755 total time=   0.0s\n",
      "[CV 1/5] END max_iter=1000, penalty=l2, random_state=10, solver=lbfgs;, score=0.737 total time=   0.0s\n",
      "[CV 2/5] END max_iter=1000, penalty=l2, random_state=10, solver=lbfgs;, score=0.742 total time=   0.0s\n",
      "[CV 3/5] END max_iter=1000, penalty=l2, random_state=10, solver=lbfgs;, score=0.741 total time=   0.0s\n",
      "[CV 4/5] END max_iter=1000, penalty=l2, random_state=10, solver=lbfgs;, score=0.745 total time=   0.0s\n",
      "[CV 5/5] END max_iter=1000, penalty=l2, random_state=10, solver=lbfgs;, score=0.755 total time=   0.0s\n",
      "[CV 1/5] END max_iter=1000, penalty=l2, random_state=10, solver=liblinear;, score=0.737 total time=   0.0s\n",
      "[CV 2/5] END max_iter=1000, penalty=l2, random_state=10, solver=liblinear;, score=0.742 total time=   0.0s\n",
      "[CV 3/5] END max_iter=1000, penalty=l2, random_state=10, solver=liblinear;, score=0.741 total time=   0.0s\n",
      "[CV 4/5] END max_iter=1000, penalty=l2, random_state=10, solver=liblinear;, score=0.745 total time=   0.0s\n",
      "[CV 5/5] END max_iter=1000, penalty=l2, random_state=10, solver=liblinear;, score=0.755 total time=   0.0s\n",
      "[CV 1/5] END max_iter=1000, penalty=l2, random_state=100, solver=lbfgs;, score=0.737 total time=   0.0s\n",
      "[CV 2/5] END max_iter=1000, penalty=l2, random_state=100, solver=lbfgs;, score=0.742 total time=   0.0s\n",
      "[CV 3/5] END max_iter=1000, penalty=l2, random_state=100, solver=lbfgs;, score=0.741 total time=   0.0s\n",
      "[CV 4/5] END max_iter=1000, penalty=l2, random_state=100, solver=lbfgs;, score=0.745 total time=   0.0s\n",
      "[CV 5/5] END max_iter=1000, penalty=l2, random_state=100, solver=lbfgs;, score=0.755 total time=   0.0s\n",
      "[CV 1/5] END max_iter=1000, penalty=l2, random_state=100, solver=liblinear;, score=0.737 total time=   0.0s\n",
      "[CV 2/5] END max_iter=1000, penalty=l2, random_state=100, solver=liblinear;, score=0.742 total time=   0.0s\n",
      "[CV 3/5] END max_iter=1000, penalty=l2, random_state=100, solver=liblinear;, score=0.741 total time=   0.0s\n",
      "[CV 4/5] END max_iter=1000, penalty=l2, random_state=100, solver=liblinear;, score=0.745 total time=   0.0s\n",
      "[CV 5/5] END max_iter=1000, penalty=l2, random_state=100, solver=liblinear;, score=0.755 total time=   0.0s\n",
      "[CV 1/5] END max_iter=1000, penalty=elasticnet, random_state=7, solver=lbfgs;, score=nan total time=   0.0s\n",
      "[CV 2/5] END max_iter=1000, penalty=elasticnet, random_state=7, solver=lbfgs;, score=nan total time=   0.0s\n",
      "[CV 3/5] END max_iter=1000, penalty=elasticnet, random_state=7, solver=lbfgs;, score=nan total time=   0.0s\n",
      "[CV 4/5] END max_iter=1000, penalty=elasticnet, random_state=7, solver=lbfgs;, score=nan total time=   0.0s\n",
      "[CV 5/5] END max_iter=1000, penalty=elasticnet, random_state=7, solver=lbfgs;, score=nan total time=   0.0s\n",
      "[CV 1/5] END max_iter=1000, penalty=elasticnet, random_state=7, solver=liblinear;, score=nan total time=   0.0s\n",
      "[CV 2/5] END max_iter=1000, penalty=elasticnet, random_state=7, solver=liblinear;, score=nan total time=   0.0s\n",
      "[CV 3/5] END max_iter=1000, penalty=elasticnet, random_state=7, solver=liblinear;, score=nan total time=   0.0s\n",
      "[CV 4/5] END max_iter=1000, penalty=elasticnet, random_state=7, solver=liblinear;, score=nan total time=   0.0s\n",
      "[CV 5/5] END max_iter=1000, penalty=elasticnet, random_state=7, solver=liblinear;, score=nan total time=   0.0s\n",
      "[CV 1/5] END max_iter=1000, penalty=elasticnet, random_state=10, solver=lbfgs;, score=nan total time=   0.0s\n",
      "[CV 2/5] END max_iter=1000, penalty=elasticnet, random_state=10, solver=lbfgs;, score=nan total time=   0.0s\n",
      "[CV 3/5] END max_iter=1000, penalty=elasticnet, random_state=10, solver=lbfgs;, score=nan total time=   0.0s\n",
      "[CV 4/5] END max_iter=1000, penalty=elasticnet, random_state=10, solver=lbfgs;, score=nan total time=   0.0s\n",
      "[CV 5/5] END max_iter=1000, penalty=elasticnet, random_state=10, solver=lbfgs;, score=nan total time=   0.0s\n",
      "[CV 1/5] END max_iter=1000, penalty=elasticnet, random_state=10, solver=liblinear;, score=nan total time=   0.0s\n",
      "[CV 2/5] END max_iter=1000, penalty=elasticnet, random_state=10, solver=liblinear;, score=nan total time=   0.0s\n",
      "[CV 3/5] END max_iter=1000, penalty=elasticnet, random_state=10, solver=liblinear;, score=nan total time=   0.0s\n",
      "[CV 4/5] END max_iter=1000, penalty=elasticnet, random_state=10, solver=liblinear;, score=nan total time=   0.0s\n",
      "[CV 5/5] END max_iter=1000, penalty=elasticnet, random_state=10, solver=liblinear;, score=nan total time=   0.0s\n",
      "[CV 1/5] END max_iter=1000, penalty=elasticnet, random_state=100, solver=lbfgs;, score=nan total time=   0.0s\n",
      "[CV 2/5] END max_iter=1000, penalty=elasticnet, random_state=100, solver=lbfgs;, score=nan total time=   0.0s\n",
      "[CV 3/5] END max_iter=1000, penalty=elasticnet, random_state=100, solver=lbfgs;, score=nan total time=   0.0s\n",
      "[CV 4/5] END max_iter=1000, penalty=elasticnet, random_state=100, solver=lbfgs;, score=nan total time=   0.0s\n",
      "[CV 5/5] END max_iter=1000, penalty=elasticnet, random_state=100, solver=lbfgs;, score=nan total time=   0.0s\n",
      "[CV 1/5] END max_iter=1000, penalty=elasticnet, random_state=100, solver=liblinear;, score=nan total time=   0.0s\n",
      "[CV 2/5] END max_iter=1000, penalty=elasticnet, random_state=100, solver=liblinear;, score=nan total time=   0.0s\n"
     ]
    },
    {
     "name": "stdout",
     "output_type": "stream",
     "text": [
      "[CV 3/5] END max_iter=1000, penalty=elasticnet, random_state=100, solver=liblinear;, score=nan total time=   0.0s\n",
      "[CV 4/5] END max_iter=1000, penalty=elasticnet, random_state=100, solver=liblinear;, score=nan total time=   0.0s\n",
      "[CV 5/5] END max_iter=1000, penalty=elasticnet, random_state=100, solver=liblinear;, score=nan total time=   0.0s\n",
      "[CV 1/5] END max_iter=5000, penalty=l1, random_state=7, solver=lbfgs;, score=nan total time=   0.0s\n",
      "[CV 2/5] END max_iter=5000, penalty=l1, random_state=7, solver=lbfgs;, score=nan total time=   0.0s\n",
      "[CV 3/5] END max_iter=5000, penalty=l1, random_state=7, solver=lbfgs;, score=nan total time=   0.0s\n",
      "[CV 4/5] END max_iter=5000, penalty=l1, random_state=7, solver=lbfgs;, score=nan total time=   0.0s\n",
      "[CV 5/5] END max_iter=5000, penalty=l1, random_state=7, solver=lbfgs;, score=nan total time=   0.0s\n",
      "[CV 1/5] END max_iter=5000, penalty=l1, random_state=7, solver=liblinear;, score=0.738 total time=   0.0s\n",
      "[CV 2/5] END max_iter=5000, penalty=l1, random_state=7, solver=liblinear;, score=0.742 total time=   0.0s\n",
      "[CV 3/5] END max_iter=5000, penalty=l1, random_state=7, solver=liblinear;, score=0.741 total time=   0.0s\n",
      "[CV 4/5] END max_iter=5000, penalty=l1, random_state=7, solver=liblinear;, score=0.746 total time=   0.0s\n",
      "[CV 5/5] END max_iter=5000, penalty=l1, random_state=7, solver=liblinear;, score=0.755 total time=   0.0s\n",
      "[CV 1/5] END max_iter=5000, penalty=l1, random_state=10, solver=lbfgs;, score=nan total time=   0.0s\n",
      "[CV 2/5] END max_iter=5000, penalty=l1, random_state=10, solver=lbfgs;, score=nan total time=   0.0s\n",
      "[CV 3/5] END max_iter=5000, penalty=l1, random_state=10, solver=lbfgs;, score=nan total time=   0.0s\n",
      "[CV 4/5] END max_iter=5000, penalty=l1, random_state=10, solver=lbfgs;, score=nan total time=   0.0s\n",
      "[CV 5/5] END max_iter=5000, penalty=l1, random_state=10, solver=lbfgs;, score=nan total time=   0.0s\n",
      "[CV 1/5] END max_iter=5000, penalty=l1, random_state=10, solver=liblinear;, score=0.738 total time=   0.0s\n",
      "[CV 2/5] END max_iter=5000, penalty=l1, random_state=10, solver=liblinear;, score=0.742 total time=   0.0s\n",
      "[CV 3/5] END max_iter=5000, penalty=l1, random_state=10, solver=liblinear;, score=0.741 total time=   0.0s\n",
      "[CV 4/5] END max_iter=5000, penalty=l1, random_state=10, solver=liblinear;, score=0.746 total time=   0.0s\n",
      "[CV 5/5] END max_iter=5000, penalty=l1, random_state=10, solver=liblinear;, score=0.755 total time=   0.0s\n",
      "[CV 1/5] END max_iter=5000, penalty=l1, random_state=100, solver=lbfgs;, score=nan total time=   0.0s\n",
      "[CV 2/5] END max_iter=5000, penalty=l1, random_state=100, solver=lbfgs;, score=nan total time=   0.0s\n",
      "[CV 3/5] END max_iter=5000, penalty=l1, random_state=100, solver=lbfgs;, score=nan total time=   0.0s\n",
      "[CV 4/5] END max_iter=5000, penalty=l1, random_state=100, solver=lbfgs;, score=nan total time=   0.0s\n",
      "[CV 5/5] END max_iter=5000, penalty=l1, random_state=100, solver=lbfgs;, score=nan total time=   0.0s\n",
      "[CV 1/5] END max_iter=5000, penalty=l1, random_state=100, solver=liblinear;, score=0.738 total time=   0.0s\n",
      "[CV 2/5] END max_iter=5000, penalty=l1, random_state=100, solver=liblinear;, score=0.742 total time=   0.0s\n",
      "[CV 3/5] END max_iter=5000, penalty=l1, random_state=100, solver=liblinear;, score=0.741 total time=   0.0s\n",
      "[CV 4/5] END max_iter=5000, penalty=l1, random_state=100, solver=liblinear;, score=0.746 total time=   0.0s\n",
      "[CV 5/5] END max_iter=5000, penalty=l1, random_state=100, solver=liblinear;, score=0.755 total time=   0.0s\n",
      "[CV 1/5] END max_iter=5000, penalty=l2, random_state=7, solver=lbfgs;, score=0.737 total time=   0.0s\n",
      "[CV 2/5] END max_iter=5000, penalty=l2, random_state=7, solver=lbfgs;, score=0.742 total time=   0.0s\n",
      "[CV 3/5] END max_iter=5000, penalty=l2, random_state=7, solver=lbfgs;, score=0.741 total time=   0.0s\n",
      "[CV 4/5] END max_iter=5000, penalty=l2, random_state=7, solver=lbfgs;, score=0.745 total time=   0.0s\n",
      "[CV 5/5] END max_iter=5000, penalty=l2, random_state=7, solver=lbfgs;, score=0.755 total time=   0.0s\n",
      "[CV 1/5] END max_iter=5000, penalty=l2, random_state=7, solver=liblinear;, score=0.737 total time=   0.0s\n",
      "[CV 2/5] END max_iter=5000, penalty=l2, random_state=7, solver=liblinear;, score=0.742 total time=   0.0s\n",
      "[CV 3/5] END max_iter=5000, penalty=l2, random_state=7, solver=liblinear;, score=0.741 total time=   0.0s\n",
      "[CV 4/5] END max_iter=5000, penalty=l2, random_state=7, solver=liblinear;, score=0.745 total time=   0.0s\n",
      "[CV 5/5] END max_iter=5000, penalty=l2, random_state=7, solver=liblinear;, score=0.755 total time=   0.0s\n",
      "[CV 1/5] END max_iter=5000, penalty=l2, random_state=10, solver=lbfgs;, score=0.737 total time=   0.0s\n",
      "[CV 2/5] END max_iter=5000, penalty=l2, random_state=10, solver=lbfgs;, score=0.742 total time=   0.0s\n",
      "[CV 3/5] END max_iter=5000, penalty=l2, random_state=10, solver=lbfgs;, score=0.741 total time=   0.0s\n",
      "[CV 4/5] END max_iter=5000, penalty=l2, random_state=10, solver=lbfgs;, score=0.745 total time=   0.0s\n",
      "[CV 5/5] END max_iter=5000, penalty=l2, random_state=10, solver=lbfgs;, score=0.755 total time=   0.0s\n",
      "[CV 1/5] END max_iter=5000, penalty=l2, random_state=10, solver=liblinear;, score=0.737 total time=   0.0s\n",
      "[CV 2/5] END max_iter=5000, penalty=l2, random_state=10, solver=liblinear;, score=0.742 total time=   0.0s\n",
      "[CV 3/5] END max_iter=5000, penalty=l2, random_state=10, solver=liblinear;, score=0.741 total time=   0.0s\n",
      "[CV 4/5] END max_iter=5000, penalty=l2, random_state=10, solver=liblinear;, score=0.745 total time=   0.0s\n",
      "[CV 5/5] END max_iter=5000, penalty=l2, random_state=10, solver=liblinear;, score=0.755 total time=   0.0s\n",
      "[CV 1/5] END max_iter=5000, penalty=l2, random_state=100, solver=lbfgs;, score=0.737 total time=   0.0s\n",
      "[CV 2/5] END max_iter=5000, penalty=l2, random_state=100, solver=lbfgs;, score=0.742 total time=   0.0s\n",
      "[CV 3/5] END max_iter=5000, penalty=l2, random_state=100, solver=lbfgs;, score=0.741 total time=   0.0s\n",
      "[CV 4/5] END max_iter=5000, penalty=l2, random_state=100, solver=lbfgs;, score=0.745 total time=   0.0s\n",
      "[CV 5/5] END max_iter=5000, penalty=l2, random_state=100, solver=lbfgs;, score=0.755 total time=   0.0s\n",
      "[CV 1/5] END max_iter=5000, penalty=l2, random_state=100, solver=liblinear;, score=0.737 total time=   0.0s\n",
      "[CV 2/5] END max_iter=5000, penalty=l2, random_state=100, solver=liblinear;, score=0.742 total time=   0.0s\n",
      "[CV 3/5] END max_iter=5000, penalty=l2, random_state=100, solver=liblinear;, score=0.741 total time=   0.0s\n",
      "[CV 4/5] END max_iter=5000, penalty=l2, random_state=100, solver=liblinear;, score=0.745 total time=   0.0s\n",
      "[CV 5/5] END max_iter=5000, penalty=l2, random_state=100, solver=liblinear;, score=0.755 total time=   0.0s\n",
      "[CV 1/5] END max_iter=5000, penalty=elasticnet, random_state=7, solver=lbfgs;, score=nan total time=   0.0s\n",
      "[CV 2/5] END max_iter=5000, penalty=elasticnet, random_state=7, solver=lbfgs;, score=nan total time=   0.0s\n",
      "[CV 3/5] END max_iter=5000, penalty=elasticnet, random_state=7, solver=lbfgs;, score=nan total time=   0.0s\n",
      "[CV 4/5] END max_iter=5000, penalty=elasticnet, random_state=7, solver=lbfgs;, score=nan total time=   0.0s\n",
      "[CV 5/5] END max_iter=5000, penalty=elasticnet, random_state=7, solver=lbfgs;, score=nan total time=   0.0s\n",
      "[CV 1/5] END max_iter=5000, penalty=elasticnet, random_state=7, solver=liblinear;, score=nan total time=   0.0s\n",
      "[CV 2/5] END max_iter=5000, penalty=elasticnet, random_state=7, solver=liblinear;, score=nan total time=   0.0s\n",
      "[CV 3/5] END max_iter=5000, penalty=elasticnet, random_state=7, solver=liblinear;, score=nan total time=   0.0s\n",
      "[CV 4/5] END max_iter=5000, penalty=elasticnet, random_state=7, solver=liblinear;, score=nan total time=   0.0s\n",
      "[CV 5/5] END max_iter=5000, penalty=elasticnet, random_state=7, solver=liblinear;, score=nan total time=   0.0s\n",
      "[CV 1/5] END max_iter=5000, penalty=elasticnet, random_state=10, solver=lbfgs;, score=nan total time=   0.0s\n",
      "[CV 2/5] END max_iter=5000, penalty=elasticnet, random_state=10, solver=lbfgs;, score=nan total time=   0.0s\n",
      "[CV 3/5] END max_iter=5000, penalty=elasticnet, random_state=10, solver=lbfgs;, score=nan total time=   0.0s\n",
      "[CV 4/5] END max_iter=5000, penalty=elasticnet, random_state=10, solver=lbfgs;, score=nan total time=   0.0s\n",
      "[CV 5/5] END max_iter=5000, penalty=elasticnet, random_state=10, solver=lbfgs;, score=nan total time=   0.0s\n",
      "[CV 1/5] END max_iter=5000, penalty=elasticnet, random_state=10, solver=liblinear;, score=nan total time=   0.0s\n",
      "[CV 2/5] END max_iter=5000, penalty=elasticnet, random_state=10, solver=liblinear;, score=nan total time=   0.0s\n",
      "[CV 3/5] END max_iter=5000, penalty=elasticnet, random_state=10, solver=liblinear;, score=nan total time=   0.0s\n",
      "[CV 4/5] END max_iter=5000, penalty=elasticnet, random_state=10, solver=liblinear;, score=nan total time=   0.0s\n",
      "[CV 5/5] END max_iter=5000, penalty=elasticnet, random_state=10, solver=liblinear;, score=nan total time=   0.0s\n",
      "[CV 1/5] END max_iter=5000, penalty=elasticnet, random_state=100, solver=lbfgs;, score=nan total time=   0.0s\n",
      "[CV 2/5] END max_iter=5000, penalty=elasticnet, random_state=100, solver=lbfgs;, score=nan total time=   0.0s\n",
      "[CV 3/5] END max_iter=5000, penalty=elasticnet, random_state=100, solver=lbfgs;, score=nan total time=   0.0s\n",
      "[CV 4/5] END max_iter=5000, penalty=elasticnet, random_state=100, solver=lbfgs;, score=nan total time=   0.0s\n",
      "[CV 5/5] END max_iter=5000, penalty=elasticnet, random_state=100, solver=lbfgs;, score=nan total time=   0.0s\n",
      "[CV 1/5] END max_iter=5000, penalty=elasticnet, random_state=100, solver=liblinear;, score=nan total time=   0.0s\n",
      "[CV 2/5] END max_iter=5000, penalty=elasticnet, random_state=100, solver=liblinear;, score=nan total time=   0.0s\n",
      "[CV 3/5] END max_iter=5000, penalty=elasticnet, random_state=100, solver=liblinear;, score=nan total time=   0.0s\n",
      "[CV 4/5] END max_iter=5000, penalty=elasticnet, random_state=100, solver=liblinear;, score=nan total time=   0.0s\n",
      "[CV 5/5] END max_iter=5000, penalty=elasticnet, random_state=100, solver=liblinear;, score=nan total time=   0.0s\n",
      "[CV 1/5] END max_iter=10000, penalty=l1, random_state=7, solver=lbfgs;, score=nan total time=   0.0s\n",
      "[CV 2/5] END max_iter=10000, penalty=l1, random_state=7, solver=lbfgs;, score=nan total time=   0.0s\n",
      "[CV 3/5] END max_iter=10000, penalty=l1, random_state=7, solver=lbfgs;, score=nan total time=   0.0s\n",
      "[CV 4/5] END max_iter=10000, penalty=l1, random_state=7, solver=lbfgs;, score=nan total time=   0.0s\n",
      "[CV 5/5] END max_iter=10000, penalty=l1, random_state=7, solver=lbfgs;, score=nan total time=   0.0s\n",
      "[CV 1/5] END max_iter=10000, penalty=l1, random_state=7, solver=liblinear;, score=0.738 total time=   0.0s\n",
      "[CV 2/5] END max_iter=10000, penalty=l1, random_state=7, solver=liblinear;, score=0.742 total time=   0.0s\n",
      "[CV 3/5] END max_iter=10000, penalty=l1, random_state=7, solver=liblinear;, score=0.741 total time=   0.0s\n",
      "[CV 4/5] END max_iter=10000, penalty=l1, random_state=7, solver=liblinear;, score=0.746 total time=   0.0s\n",
      "[CV 5/5] END max_iter=10000, penalty=l1, random_state=7, solver=liblinear;, score=0.755 total time=   0.0s\n",
      "[CV 1/5] END max_iter=10000, penalty=l1, random_state=10, solver=lbfgs;, score=nan total time=   0.0s\n",
      "[CV 2/5] END max_iter=10000, penalty=l1, random_state=10, solver=lbfgs;, score=nan total time=   0.0s\n",
      "[CV 3/5] END max_iter=10000, penalty=l1, random_state=10, solver=lbfgs;, score=nan total time=   0.0s\n",
      "[CV 4/5] END max_iter=10000, penalty=l1, random_state=10, solver=lbfgs;, score=nan total time=   0.0s\n",
      "[CV 5/5] END max_iter=10000, penalty=l1, random_state=10, solver=lbfgs;, score=nan total time=   0.0s\n",
      "[CV 1/5] END max_iter=10000, penalty=l1, random_state=10, solver=liblinear;, score=0.738 total time=   0.0s\n",
      "[CV 2/5] END max_iter=10000, penalty=l1, random_state=10, solver=liblinear;, score=0.742 total time=   0.0s\n",
      "[CV 3/5] END max_iter=10000, penalty=l1, random_state=10, solver=liblinear;, score=0.741 total time=   0.0s\n",
      "[CV 4/5] END max_iter=10000, penalty=l1, random_state=10, solver=liblinear;, score=0.746 total time=   0.0s\n",
      "[CV 5/5] END max_iter=10000, penalty=l1, random_state=10, solver=liblinear;, score=0.755 total time=   0.0s\n",
      "[CV 1/5] END max_iter=10000, penalty=l1, random_state=100, solver=lbfgs;, score=nan total time=   0.0s\n",
      "[CV 2/5] END max_iter=10000, penalty=l1, random_state=100, solver=lbfgs;, score=nan total time=   0.0s\n",
      "[CV 3/5] END max_iter=10000, penalty=l1, random_state=100, solver=lbfgs;, score=nan total time=   0.0s\n",
      "[CV 4/5] END max_iter=10000, penalty=l1, random_state=100, solver=lbfgs;, score=nan total time=   0.0s\n",
      "[CV 5/5] END max_iter=10000, penalty=l1, random_state=100, solver=lbfgs;, score=nan total time=   0.0s\n",
      "[CV 1/5] END max_iter=10000, penalty=l1, random_state=100, solver=liblinear;, score=0.738 total time=   0.0s\n",
      "[CV 2/5] END max_iter=10000, penalty=l1, random_state=100, solver=liblinear;, score=0.742 total time=   0.0s\n",
      "[CV 3/5] END max_iter=10000, penalty=l1, random_state=100, solver=liblinear;, score=0.741 total time=   0.0s\n",
      "[CV 4/5] END max_iter=10000, penalty=l1, random_state=100, solver=liblinear;, score=0.746 total time=   0.0s\n",
      "[CV 5/5] END max_iter=10000, penalty=l1, random_state=100, solver=liblinear;, score=0.755 total time=   0.0s\n"
     ]
    },
    {
     "name": "stdout",
     "output_type": "stream",
     "text": [
      "[CV 1/5] END max_iter=10000, penalty=l2, random_state=7, solver=lbfgs;, score=0.737 total time=   0.0s\n",
      "[CV 2/5] END max_iter=10000, penalty=l2, random_state=7, solver=lbfgs;, score=0.742 total time=   0.0s\n",
      "[CV 3/5] END max_iter=10000, penalty=l2, random_state=7, solver=lbfgs;, score=0.741 total time=   0.0s\n",
      "[CV 4/5] END max_iter=10000, penalty=l2, random_state=7, solver=lbfgs;, score=0.745 total time=   0.0s\n",
      "[CV 5/5] END max_iter=10000, penalty=l2, random_state=7, solver=lbfgs;, score=0.755 total time=   0.0s\n",
      "[CV 1/5] END max_iter=10000, penalty=l2, random_state=7, solver=liblinear;, score=0.737 total time=   0.0s\n",
      "[CV 2/5] END max_iter=10000, penalty=l2, random_state=7, solver=liblinear;, score=0.742 total time=   0.0s\n",
      "[CV 3/5] END max_iter=10000, penalty=l2, random_state=7, solver=liblinear;, score=0.741 total time=   0.0s\n",
      "[CV 4/5] END max_iter=10000, penalty=l2, random_state=7, solver=liblinear;, score=0.745 total time=   0.0s\n",
      "[CV 5/5] END max_iter=10000, penalty=l2, random_state=7, solver=liblinear;, score=0.755 total time=   0.0s\n",
      "[CV 1/5] END max_iter=10000, penalty=l2, random_state=10, solver=lbfgs;, score=0.737 total time=   0.0s\n",
      "[CV 2/5] END max_iter=10000, penalty=l2, random_state=10, solver=lbfgs;, score=0.742 total time=   0.0s\n",
      "[CV 3/5] END max_iter=10000, penalty=l2, random_state=10, solver=lbfgs;, score=0.741 total time=   0.0s\n",
      "[CV 4/5] END max_iter=10000, penalty=l2, random_state=10, solver=lbfgs;, score=0.745 total time=   0.0s\n",
      "[CV 5/5] END max_iter=10000, penalty=l2, random_state=10, solver=lbfgs;, score=0.755 total time=   0.0s\n",
      "[CV 1/5] END max_iter=10000, penalty=l2, random_state=10, solver=liblinear;, score=0.737 total time=   0.0s\n",
      "[CV 2/5] END max_iter=10000, penalty=l2, random_state=10, solver=liblinear;, score=0.742 total time=   0.0s\n",
      "[CV 3/5] END max_iter=10000, penalty=l2, random_state=10, solver=liblinear;, score=0.741 total time=   0.0s\n",
      "[CV 4/5] END max_iter=10000, penalty=l2, random_state=10, solver=liblinear;, score=0.745 total time=   0.0s\n",
      "[CV 5/5] END max_iter=10000, penalty=l2, random_state=10, solver=liblinear;, score=0.755 total time=   0.0s\n",
      "[CV 1/5] END max_iter=10000, penalty=l2, random_state=100, solver=lbfgs;, score=0.737 total time=   0.0s\n",
      "[CV 2/5] END max_iter=10000, penalty=l2, random_state=100, solver=lbfgs;, score=0.742 total time=   0.0s\n",
      "[CV 3/5] END max_iter=10000, penalty=l2, random_state=100, solver=lbfgs;, score=0.741 total time=   0.0s\n",
      "[CV 4/5] END max_iter=10000, penalty=l2, random_state=100, solver=lbfgs;, score=0.745 total time=   0.0s\n",
      "[CV 5/5] END max_iter=10000, penalty=l2, random_state=100, solver=lbfgs;, score=0.755 total time=   0.0s\n",
      "[CV 1/5] END max_iter=10000, penalty=l2, random_state=100, solver=liblinear;, score=0.737 total time=   0.0s\n",
      "[CV 2/5] END max_iter=10000, penalty=l2, random_state=100, solver=liblinear;, score=0.742 total time=   0.0s\n",
      "[CV 3/5] END max_iter=10000, penalty=l2, random_state=100, solver=liblinear;, score=0.741 total time=   0.0s\n",
      "[CV 4/5] END max_iter=10000, penalty=l2, random_state=100, solver=liblinear;, score=0.745 total time=   0.0s\n",
      "[CV 5/5] END max_iter=10000, penalty=l2, random_state=100, solver=liblinear;, score=0.755 total time=   0.0s\n",
      "[CV 1/5] END max_iter=10000, penalty=elasticnet, random_state=7, solver=lbfgs;, score=nan total time=   0.0s\n",
      "[CV 2/5] END max_iter=10000, penalty=elasticnet, random_state=7, solver=lbfgs;, score=nan total time=   0.0s\n",
      "[CV 3/5] END max_iter=10000, penalty=elasticnet, random_state=7, solver=lbfgs;, score=nan total time=   0.0s\n",
      "[CV 4/5] END max_iter=10000, penalty=elasticnet, random_state=7, solver=lbfgs;, score=nan total time=   0.0s\n",
      "[CV 5/5] END max_iter=10000, penalty=elasticnet, random_state=7, solver=lbfgs;, score=nan total time=   0.0s\n",
      "[CV 1/5] END max_iter=10000, penalty=elasticnet, random_state=7, solver=liblinear;, score=nan total time=   0.0s\n",
      "[CV 2/5] END max_iter=10000, penalty=elasticnet, random_state=7, solver=liblinear;, score=nan total time=   0.0s\n",
      "[CV 3/5] END max_iter=10000, penalty=elasticnet, random_state=7, solver=liblinear;, score=nan total time=   0.0s\n",
      "[CV 4/5] END max_iter=10000, penalty=elasticnet, random_state=7, solver=liblinear;, score=nan total time=   0.0s\n",
      "[CV 5/5] END max_iter=10000, penalty=elasticnet, random_state=7, solver=liblinear;, score=nan total time=   0.0s\n",
      "[CV 1/5] END max_iter=10000, penalty=elasticnet, random_state=10, solver=lbfgs;, score=nan total time=   0.0s\n",
      "[CV 2/5] END max_iter=10000, penalty=elasticnet, random_state=10, solver=lbfgs;, score=nan total time=   0.0s\n",
      "[CV 3/5] END max_iter=10000, penalty=elasticnet, random_state=10, solver=lbfgs;, score=nan total time=   0.0s\n",
      "[CV 4/5] END max_iter=10000, penalty=elasticnet, random_state=10, solver=lbfgs;, score=nan total time=   0.0s\n",
      "[CV 5/5] END max_iter=10000, penalty=elasticnet, random_state=10, solver=lbfgs;, score=nan total time=   0.0s\n",
      "[CV 1/5] END max_iter=10000, penalty=elasticnet, random_state=10, solver=liblinear;, score=nan total time=   0.0s\n",
      "[CV 2/5] END max_iter=10000, penalty=elasticnet, random_state=10, solver=liblinear;, score=nan total time=   0.0s\n",
      "[CV 3/5] END max_iter=10000, penalty=elasticnet, random_state=10, solver=liblinear;, score=nan total time=   0.0s\n",
      "[CV 4/5] END max_iter=10000, penalty=elasticnet, random_state=10, solver=liblinear;, score=nan total time=   0.0s\n",
      "[CV 5/5] END max_iter=10000, penalty=elasticnet, random_state=10, solver=liblinear;, score=nan total time=   0.0s\n",
      "[CV 1/5] END max_iter=10000, penalty=elasticnet, random_state=100, solver=lbfgs;, score=nan total time=   0.0s\n",
      "[CV 2/5] END max_iter=10000, penalty=elasticnet, random_state=100, solver=lbfgs;, score=nan total time=   0.0s\n",
      "[CV 3/5] END max_iter=10000, penalty=elasticnet, random_state=100, solver=lbfgs;, score=nan total time=   0.0s\n",
      "[CV 4/5] END max_iter=10000, penalty=elasticnet, random_state=100, solver=lbfgs;, score=nan total time=   0.0s\n",
      "[CV 5/5] END max_iter=10000, penalty=elasticnet, random_state=100, solver=lbfgs;, score=nan total time=   0.0s\n",
      "[CV 1/5] END max_iter=10000, penalty=elasticnet, random_state=100, solver=liblinear;, score=nan total time=   0.0s\n",
      "[CV 2/5] END max_iter=10000, penalty=elasticnet, random_state=100, solver=liblinear;, score=nan total time=   0.0s\n",
      "[CV 3/5] END max_iter=10000, penalty=elasticnet, random_state=100, solver=liblinear;, score=nan total time=   0.0s\n",
      "[CV 4/5] END max_iter=10000, penalty=elasticnet, random_state=100, solver=liblinear;, score=nan total time=   0.0s\n",
      "[CV 5/5] END max_iter=10000, penalty=elasticnet, random_state=100, solver=liblinear;, score=nan total time=   0.0s\n"
     ]
    },
    {
     "name": "stderr",
     "output_type": "stream",
     "text": [
      "C:\\Users\\Lenovo\\anaconda3\\lib\\site-packages\\sklearn\\model_selection\\_validation.py:372: FitFailedWarning: \n",
      "135 fits failed out of a total of 270.\n",
      "The score on these train-test partitions for these parameters will be set to nan.\n",
      "If these failures are not expected, you can try to debug them by setting error_score='raise'.\n",
      "\n",
      "Below are more details about the failures:\n",
      "--------------------------------------------------------------------------------\n",
      "45 fits failed with the following error:\n",
      "Traceback (most recent call last):\n",
      "  File \"C:\\Users\\Lenovo\\anaconda3\\lib\\site-packages\\sklearn\\model_selection\\_validation.py\", line 680, in _fit_and_score\n",
      "    estimator.fit(X_train, y_train, **fit_params)\n",
      "  File \"C:\\Users\\Lenovo\\anaconda3\\lib\\site-packages\\sklearn\\linear_model\\_logistic.py\", line 1461, in fit\n",
      "    solver = _check_solver(self.solver, self.penalty, self.dual)\n",
      "  File \"C:\\Users\\Lenovo\\anaconda3\\lib\\site-packages\\sklearn\\linear_model\\_logistic.py\", line 447, in _check_solver\n",
      "    raise ValueError(\n",
      "ValueError: Solver lbfgs supports only 'l2' or 'none' penalties, got l1 penalty.\n",
      "\n",
      "--------------------------------------------------------------------------------\n",
      "45 fits failed with the following error:\n",
      "Traceback (most recent call last):\n",
      "  File \"C:\\Users\\Lenovo\\anaconda3\\lib\\site-packages\\sklearn\\model_selection\\_validation.py\", line 680, in _fit_and_score\n",
      "    estimator.fit(X_train, y_train, **fit_params)\n",
      "  File \"C:\\Users\\Lenovo\\anaconda3\\lib\\site-packages\\sklearn\\linear_model\\_logistic.py\", line 1461, in fit\n",
      "    solver = _check_solver(self.solver, self.penalty, self.dual)\n",
      "  File \"C:\\Users\\Lenovo\\anaconda3\\lib\\site-packages\\sklearn\\linear_model\\_logistic.py\", line 447, in _check_solver\n",
      "    raise ValueError(\n",
      "ValueError: Solver lbfgs supports only 'l2' or 'none' penalties, got elasticnet penalty.\n",
      "\n",
      "--------------------------------------------------------------------------------\n",
      "45 fits failed with the following error:\n",
      "Traceback (most recent call last):\n",
      "  File \"C:\\Users\\Lenovo\\anaconda3\\lib\\site-packages\\sklearn\\model_selection\\_validation.py\", line 680, in _fit_and_score\n",
      "    estimator.fit(X_train, y_train, **fit_params)\n",
      "  File \"C:\\Users\\Lenovo\\anaconda3\\lib\\site-packages\\sklearn\\linear_model\\_logistic.py\", line 1461, in fit\n",
      "    solver = _check_solver(self.solver, self.penalty, self.dual)\n",
      "  File \"C:\\Users\\Lenovo\\anaconda3\\lib\\site-packages\\sklearn\\linear_model\\_logistic.py\", line 457, in _check_solver\n",
      "    raise ValueError(\n",
      "ValueError: Only 'saga' solver supports elasticnet penalty, got solver=liblinear.\n",
      "\n",
      "  warnings.warn(some_fits_failed_message, FitFailedWarning)\n",
      "C:\\Users\\Lenovo\\anaconda3\\lib\\site-packages\\sklearn\\model_selection\\_search.py:969: UserWarning: One or more of the test scores are non-finite: [       nan 0.74453637        nan 0.74453637        nan 0.74453637\n",
      " 0.7442572  0.7442572  0.7442572  0.7442572  0.7442572  0.7442572\n",
      "        nan        nan        nan        nan        nan        nan\n",
      "        nan 0.74453637        nan 0.74453637        nan 0.74453637\n",
      " 0.7442572  0.7442572  0.7442572  0.7442572  0.7442572  0.7442572\n",
      "        nan        nan        nan        nan        nan        nan\n",
      "        nan 0.74453637        nan 0.74453637        nan 0.74453637\n",
      " 0.7442572  0.7442572  0.7442572  0.7442572  0.7442572  0.7442572\n",
      "        nan        nan        nan        nan        nan        nan]\n",
      "  warnings.warn(\n"
     ]
    },
    {
     "data": {
      "text/plain": [
       "GridSearchCV(cv=5, estimator=LogisticRegression(),\n",
       "             param_grid={'max_iter': [1000, 5000, 10000],\n",
       "                         'penalty': ['l1', 'l2', 'elasticnet'],\n",
       "                         'random_state': [7, 10, 100],\n",
       "                         'solver': ['lbfgs', 'liblinear']},\n",
       "             scoring='f1', verbose=3)"
      ]
     },
     "execution_count": 108,
     "metadata": {},
     "output_type": "execute_result"
    }
   ],
   "source": [
    "model.fit(xtrain_scale,ytrain)"
   ]
  },
  {
   "cell_type": "code",
   "execution_count": 109,
   "id": "5caa95c7",
   "metadata": {},
   "outputs": [
    {
     "data": {
      "text/plain": [
       "LogisticRegression(max_iter=1000, penalty='l1', random_state=7,\n",
       "                   solver='liblinear')"
      ]
     },
     "execution_count": 109,
     "metadata": {},
     "output_type": "execute_result"
    }
   ],
   "source": [
    "model= model.best_estimator_\n",
    "model"
   ]
  },
  {
   "cell_type": "code",
   "execution_count": 110,
   "id": "bd975dca",
   "metadata": {},
   "outputs": [],
   "source": [
    "ytrain_pred1= model.predict(xtrain_scale)\n",
    "ytest_pred1= model.predict(xtest_scale)"
   ]
  },
  {
   "cell_type": "code",
   "execution_count": 111,
   "id": "6bff5bd0",
   "metadata": {},
   "outputs": [
    {
     "name": "stdout",
     "output_type": "stream",
     "text": [
      "              precision    recall  f1-score   support\n",
      "\n",
      "           0       0.75      0.69      0.72      3033\n",
      "           1       0.71      0.77      0.74      3031\n",
      "\n",
      "    accuracy                           0.73      6064\n",
      "   macro avg       0.73      0.73      0.73      6064\n",
      "weighted avg       0.73      0.73      0.73      6064\n",
      "\n",
      "[[2096  937]\n",
      " [ 682 2349]] \n",
      "\n",
      "Cross_val_score: 0.7335113989158388\n"
     ]
    }
   ],
   "source": [
    "print(classification_report(ytrain,ytrain_pred1))\n",
    "print(confusion_matrix(ytrain,ytrain_pred1),'\\n')\n",
    "cvs = cross_val_score(model,xtrain_scale,ytrain,cv=10)\n",
    "print('Cross_val_score:',np.mean(cvs))"
   ]
  },
  {
   "cell_type": "code",
   "execution_count": 112,
   "id": "7573029f",
   "metadata": {},
   "outputs": [
    {
     "name": "stdout",
     "output_type": "stream",
     "text": [
      "              precision    recall  f1-score   support\n",
      "\n",
      "           0       0.74      0.67      0.71       757\n",
      "           1       0.70      0.77      0.73       759\n",
      "\n",
      "    accuracy                           0.72      1516\n",
      "   macro avg       0.72      0.72      0.72      1516\n",
      "weighted avg       0.72      0.72      0.72      1516\n",
      "\n",
      "[[508 249]\n",
      " [174 585]] \n",
      "\n",
      "Cross_val_score: 0.7176368072499129\n"
     ]
    }
   ],
   "source": [
    "print(classification_report(ytest,ytest_pred1))\n",
    "print(confusion_matrix(ytest,ytest_pred1),'\\n')\n",
    "cvs = cross_val_score(model,xtest_scale,ytest,cv=10)\n",
    "print('Cross_val_score:',np.mean(cvs))"
   ]
  },
  {
   "cell_type": "code",
   "execution_count": null,
   "id": "712ad6b0",
   "metadata": {},
   "outputs": [],
   "source": []
  },
  {
   "cell_type": "markdown",
   "id": "618110ac",
   "metadata": {},
   "source": [
    "# 2.Gradient Boosting"
   ]
  },
  {
   "cell_type": "code",
   "execution_count": 33,
   "id": "ac3eb304",
   "metadata": {},
   "outputs": [],
   "source": [
    "gb= GradientBoostingClassifier()"
   ]
  },
  {
   "cell_type": "code",
   "execution_count": 34,
   "id": "ce20d1da",
   "metadata": {},
   "outputs": [
    {
     "data": {
      "text/plain": [
       "GradientBoostingClassifier()"
      ]
     },
     "execution_count": 34,
     "metadata": {},
     "output_type": "execute_result"
    }
   ],
   "source": [
    "gb.fit(xtrain_scale,ytrain)"
   ]
  },
  {
   "cell_type": "code",
   "execution_count": 43,
   "id": "5a50c3b4",
   "metadata": {},
   "outputs": [
    {
     "data": {
      "text/plain": [
       "array([0.00774563, 0.02640934, 0.04188702, 0.04451309, 0.04642054,\n",
       "       0.0524825 , 0.0606694 , 0.0753947 , 0.07976612, 0.10011235,\n",
       "       0.10232052, 0.1204285 , 0.2418503 ])"
      ]
     },
     "execution_count": 43,
     "metadata": {},
     "output_type": "execute_result"
    }
   ],
   "source": [
    "imp1=gb.feature_importances_\n",
    "imp1=np.sort(imp1)\n",
    "imp1"
   ]
  },
  {
   "cell_type": "code",
   "execution_count": 44,
   "id": "057fcd45",
   "metadata": {},
   "outputs": [],
   "source": [
    "columns=['previous','age','contact','day','campaign','marital','education','balance','loan','job','month','pdays','housing']"
   ]
  },
  {
   "cell_type": "code",
   "execution_count": 45,
   "id": "0f26d0bc",
   "metadata": {},
   "outputs": [
    {
     "data": {
      "image/png": "[encoded data removed]",
      "text/plain": [
       "<Figure size 704x528 with 1 Axes>"
      ]
     },
     "metadata": {},
     "output_type": "display_data"
    }
   ],
   "source": [
    "plt.figure(dpi=110)\n",
    "plt.bar(x=columns, height =imp1)\n",
    "plt.xticks(rotation=90)\n",
    "plt.title('Feature Importances')\n",
    "plt.show()"
   ]
  },
  {
   "cell_type": "markdown",
   "id": "d84d348d",
   "metadata": {},
   "source": [
    "# Without Tuning params"
   ]
  },
  {
   "cell_type": "code",
   "execution_count": null,
   "id": "85fa99f7",
   "metadata": {},
   "outputs": [],
   "source": []
  },
  {
   "cell_type": "code",
   "execution_count": 80,
   "id": "892d2307",
   "metadata": {},
   "outputs": [],
   "source": [
    "ytrain_pred =gb.predict(xtrain_scale)\n",
    "ytest_pred= gb.predict(xtest_scale)"
   ]
  },
  {
   "cell_type": "code",
   "execution_count": 113,
   "id": "2db10b74",
   "metadata": {},
   "outputs": [
    {
     "name": "stdout",
     "output_type": "stream",
     "text": [
      "              precision    recall  f1-score   support\n",
      "\n",
      "           0       0.85      0.84      0.85      3033\n",
      "           1       0.84      0.85      0.85      3031\n",
      "\n",
      "    accuracy                           0.85      6064\n",
      "   macro avg       0.85      0.85      0.85      6064\n",
      "weighted avg       0.85      0.85      0.85      6064\n",
      "\n",
      "[[2558  475]\n",
      " [ 459 2572]] \n",
      "\n",
      "Cross_val_score: 0.8260231294958162\n"
     ]
    }
   ],
   "source": [
    "print(classification_report(ytrain,ytrain_pred))\n",
    "print(confusion_matrix(ytrain,ytrain_pred),'\\n')\n",
    "cvs = cross_val_score(gb,xtrain_scale,ytrain,cv=10)\n",
    "print('Cross_val_score:',np.mean(cvs))"
   ]
  },
  {
   "cell_type": "code",
   "execution_count": 114,
   "id": "3131b81c",
   "metadata": {},
   "outputs": [
    {
     "name": "stdout",
     "output_type": "stream",
     "text": [
      "              precision    recall  f1-score   support\n",
      "\n",
      "           0       0.82      0.84      0.83       757\n",
      "           1       0.84      0.82      0.83       759\n",
      "\n",
      "    accuracy                           0.83      1516\n",
      "   macro avg       0.83      0.83      0.83      1516\n",
      "weighted avg       0.83      0.83      0.83      1516\n",
      "\n",
      "[[638 119]\n",
      " [140 619]] \n",
      "\n",
      "Cross_val_score: 0.8159506796793308\n"
     ]
    }
   ],
   "source": [
    "print(classification_report(ytest,ytest_pred))\n",
    "print(confusion_matrix(ytest,ytest_pred),'\\n')\n",
    "cvs = cross_val_score(gb,xtest_scale,ytest,cv=10)\n",
    "print('Cross_val_score:',np.mean(cvs))"
   ]
  },
  {
   "cell_type": "markdown",
   "id": "9b7e7d05",
   "metadata": {},
   "source": [
    "# With Tuning Params"
   ]
  },
  {
   "cell_type": "code",
   "execution_count": 89,
   "id": "e9325677",
   "metadata": {},
   "outputs": [],
   "source": [
    "params1={}\n",
    "params1['loss'] = ['exponential']\n",
    "params1['learning_rate'] = [0.001]\n",
    "params1['n_estimators']=[3000,5000,7500,10000]\n",
    "params1['max_depth']= [3,5,6]"
   ]
  },
  {
   "cell_type": "code",
   "execution_count": 90,
   "id": "f731f815",
   "metadata": {},
   "outputs": [],
   "source": [
    "model1=GridSearchCV(gb,param_grid= params1,cv=5,scoring='f1',verbose=3)"
   ]
  },
  {
   "cell_type": "code",
   "execution_count": 91,
   "id": "68f6a0e9",
   "metadata": {},
   "outputs": [
    {
     "name": "stdout",
     "output_type": "stream",
     "text": [
      "Fitting 5 folds for each of 12 candidates, totalling 60 fits\n",
      "[CV 1/5] END learning_rate=0.001, loss=exponential, max_depth=3, n_estimators=3000;, score=0.790 total time=  14.3s\n",
      "[CV 2/5] END learning_rate=0.001, loss=exponential, max_depth=3, n_estimators=3000;, score=0.801 total time=  13.5s\n",
      "[CV 3/5] END learning_rate=0.001, loss=exponential, max_depth=3, n_estimators=3000;, score=0.781 total time=  12.9s\n",
      "[CV 4/5] END learning_rate=0.001, loss=exponential, max_depth=3, n_estimators=3000;, score=0.786 total time=  12.7s\n",
      "[CV 5/5] END learning_rate=0.001, loss=exponential, max_depth=3, n_estimators=3000;, score=0.803 total time=  12.7s\n",
      "[CV 1/5] END learning_rate=0.001, loss=exponential, max_depth=3, n_estimators=5000;, score=0.807 total time=  21.2s\n",
      "[CV 2/5] END learning_rate=0.001, loss=exponential, max_depth=3, n_estimators=5000;, score=0.802 total time=  21.0s\n",
      "[CV 3/5] END learning_rate=0.001, loss=exponential, max_depth=3, n_estimators=5000;, score=0.792 total time=  21.1s\n",
      "[CV 4/5] END learning_rate=0.001, loss=exponential, max_depth=3, n_estimators=5000;, score=0.805 total time=  21.2s\n",
      "[CV 5/5] END learning_rate=0.001, loss=exponential, max_depth=3, n_estimators=5000;, score=0.811 total time=  21.4s\n",
      "[CV 1/5] END learning_rate=0.001, loss=exponential, max_depth=3, n_estimators=7500;, score=0.822 total time=  32.4s\n",
      "[CV 2/5] END learning_rate=0.001, loss=exponential, max_depth=3, n_estimators=7500;, score=0.805 total time=  35.9s\n",
      "[CV 3/5] END learning_rate=0.001, loss=exponential, max_depth=3, n_estimators=7500;, score=0.807 total time=  34.1s\n",
      "[CV 4/5] END learning_rate=0.001, loss=exponential, max_depth=3, n_estimators=7500;, score=0.823 total time=  32.9s\n",
      "[CV 5/5] END learning_rate=0.001, loss=exponential, max_depth=3, n_estimators=7500;, score=0.819 total time=  32.4s\n",
      "[CV 1/5] END learning_rate=0.001, loss=exponential, max_depth=3, n_estimators=10000;, score=0.827 total time=  47.5s\n",
      "[CV 2/5] END learning_rate=0.001, loss=exponential, max_depth=3, n_estimators=10000;, score=0.814 total time=  48.0s\n",
      "[CV 3/5] END learning_rate=0.001, loss=exponential, max_depth=3, n_estimators=10000;, score=0.816 total time=  43.1s\n",
      "[CV 4/5] END learning_rate=0.001, loss=exponential, max_depth=3, n_estimators=10000;, score=0.834 total time=  43.4s\n",
      "[CV 5/5] END learning_rate=0.001, loss=exponential, max_depth=3, n_estimators=10000;, score=0.830 total time=  43.5s\n",
      "[CV 1/5] END learning_rate=0.001, loss=exponential, max_depth=5, n_estimators=3000;, score=0.815 total time=  21.7s\n",
      "[CV 2/5] END learning_rate=0.001, loss=exponential, max_depth=5, n_estimators=3000;, score=0.821 total time=  21.7s\n",
      "[CV 3/5] END learning_rate=0.001, loss=exponential, max_depth=5, n_estimators=3000;, score=0.816 total time=  21.4s\n",
      "[CV 4/5] END learning_rate=0.001, loss=exponential, max_depth=5, n_estimators=3000;, score=0.819 total time=  21.6s\n",
      "[CV 5/5] END learning_rate=0.001, loss=exponential, max_depth=5, n_estimators=3000;, score=0.846 total time=  21.6s\n",
      "[CV 1/5] END learning_rate=0.001, loss=exponential, max_depth=5, n_estimators=5000;, score=0.846 total time=  36.6s\n",
      "[CV 2/5] END learning_rate=0.001, loss=exponential, max_depth=5, n_estimators=5000;, score=0.835 total time=  36.2s\n",
      "[CV 3/5] END learning_rate=0.001, loss=exponential, max_depth=5, n_estimators=5000;, score=0.833 total time=  36.8s\n",
      "[CV 4/5] END learning_rate=0.001, loss=exponential, max_depth=5, n_estimators=5000;, score=0.845 total time=  36.6s\n",
      "[CV 5/5] END learning_rate=0.001, loss=exponential, max_depth=5, n_estimators=5000;, score=0.856 total time=  36.3s\n",
      "[CV 1/5] END learning_rate=0.001, loss=exponential, max_depth=5, n_estimators=7500;, score=0.857 total time=  54.3s\n",
      "[CV 2/5] END learning_rate=0.001, loss=exponential, max_depth=5, n_estimators=7500;, score=0.851 total time=  53.4s\n",
      "[CV 3/5] END learning_rate=0.001, loss=exponential, max_depth=5, n_estimators=7500;, score=0.849 total time=  54.2s\n",
      "[CV 4/5] END learning_rate=0.001, loss=exponential, max_depth=5, n_estimators=7500;, score=0.858 total time=  54.9s\n",
      "[CV 5/5] END learning_rate=0.001, loss=exponential, max_depth=5, n_estimators=7500;, score=0.855 total time=  54.7s\n",
      "[CV 1/5] END learning_rate=0.001, loss=exponential, max_depth=5, n_estimators=10000;, score=0.866 total time= 1.2min\n",
      "[CV 2/5] END learning_rate=0.001, loss=exponential, max_depth=5, n_estimators=10000;, score=0.860 total time= 1.2min\n",
      "[CV 3/5] END learning_rate=0.001, loss=exponential, max_depth=5, n_estimators=10000;, score=0.855 total time= 1.2min\n",
      "[CV 4/5] END learning_rate=0.001, loss=exponential, max_depth=5, n_estimators=10000;, score=0.867 total time= 1.2min\n",
      "[CV 5/5] END learning_rate=0.001, loss=exponential, max_depth=5, n_estimators=10000;, score=0.863 total time= 1.2min\n",
      "[CV 1/5] END learning_rate=0.001, loss=exponential, max_depth=6, n_estimators=3000;, score=0.840 total time=  26.7s\n",
      "[CV 2/5] END learning_rate=0.001, loss=exponential, max_depth=6, n_estimators=3000;, score=0.838 total time=  26.9s\n",
      "[CV 3/5] END learning_rate=0.001, loss=exponential, max_depth=6, n_estimators=3000;, score=0.830 total time=  26.9s\n",
      "[CV 4/5] END learning_rate=0.001, loss=exponential, max_depth=6, n_estimators=3000;, score=0.840 total time=  28.2s\n",
      "[CV 5/5] END learning_rate=0.001, loss=exponential, max_depth=6, n_estimators=3000;, score=0.859 total time=  27.8s\n",
      "[CV 1/5] END learning_rate=0.001, loss=exponential, max_depth=6, n_estimators=5000;, score=0.853 total time=  46.6s\n",
      "[CV 2/5] END learning_rate=0.001, loss=exponential, max_depth=6, n_estimators=5000;, score=0.851 total time=  45.9s\n",
      "[CV 3/5] END learning_rate=0.001, loss=exponential, max_depth=6, n_estimators=5000;, score=0.847 total time=  45.6s\n",
      "[CV 4/5] END learning_rate=0.001, loss=exponential, max_depth=6, n_estimators=5000;, score=0.862 total time=  45.7s\n",
      "[CV 5/5] END learning_rate=0.001, loss=exponential, max_depth=6, n_estimators=5000;, score=0.865 total time=  46.2s\n",
      "[CV 1/5] END learning_rate=0.001, loss=exponential, max_depth=6, n_estimators=7500;, score=0.863 total time= 1.2min\n",
      "[CV 2/5] END learning_rate=0.001, loss=exponential, max_depth=6, n_estimators=7500;, score=0.865 total time= 1.1min\n",
      "[CV 3/5] END learning_rate=0.001, loss=exponential, max_depth=6, n_estimators=7500;, score=0.860 total time= 1.1min\n",
      "[CV 4/5] END learning_rate=0.001, loss=exponential, max_depth=6, n_estimators=7500;, score=0.869 total time= 1.1min\n",
      "[CV 5/5] END learning_rate=0.001, loss=exponential, max_depth=6, n_estimators=7500;, score=0.878 total time= 1.1min\n",
      "[CV 1/5] END learning_rate=0.001, loss=exponential, max_depth=6, n_estimators=10000;, score=0.875 total time= 1.5min\n",
      "[CV 2/5] END learning_rate=0.001, loss=exponential, max_depth=6, n_estimators=10000;, score=0.875 total time= 1.5min\n",
      "[CV 3/5] END learning_rate=0.001, loss=exponential, max_depth=6, n_estimators=10000;, score=0.875 total time= 1.5min\n",
      "[CV 4/5] END learning_rate=0.001, loss=exponential, max_depth=6, n_estimators=10000;, score=0.876 total time= 1.5min\n",
      "[CV 5/5] END learning_rate=0.001, loss=exponential, max_depth=6, n_estimators=10000;, score=0.884 total time= 1.6min\n"
     ]
    },
    {
     "data": {
      "text/plain": [
       "GridSearchCV(cv=5, estimator=GradientBoostingClassifier(),\n",
       "             param_grid={'learning_rate': [0.001], 'loss': ['exponential'],\n",
       "                         'max_depth': [3, 5, 6],\n",
       "                         'n_estimators': [3000, 5000, 7500, 10000]},\n",
       "             scoring='f1', verbose=3)"
      ]
     },
     "execution_count": 91,
     "metadata": {},
     "output_type": "execute_result"
    }
   ],
   "source": [
    "model1.fit(xtrain_scale,ytrain)"
   ]
  },
  {
   "cell_type": "code",
   "execution_count": 92,
   "id": "1f8802ca",
   "metadata": {},
   "outputs": [
    {
     "data": {
      "text/plain": [
       "GradientBoostingClassifier(learning_rate=0.001, loss='exponential', max_depth=6,\n",
       "                           n_estimators=10000)"
      ]
     },
     "execution_count": 92,
     "metadata": {},
     "output_type": "execute_result"
    }
   ],
   "source": [
    "model1=model1.best_estimator_\n",
    "model1"
   ]
  },
  {
   "cell_type": "code",
   "execution_count": 94,
   "id": "c636c16b",
   "metadata": {},
   "outputs": [],
   "source": [
    "ytrain_pred2=model1.predict(xtrain_scale)\n",
    "ytest_pred2= model1.predict(xtest_scale)"
   ]
  },
  {
   "cell_type": "code",
   "execution_count": 115,
   "id": "f59743cd",
   "metadata": {},
   "outputs": [
    {
     "name": "stdout",
     "output_type": "stream",
     "text": [
      "              precision    recall  f1-score   support\n",
      "\n",
      "           0       0.95      0.94      0.95      3033\n",
      "           1       0.94      0.95      0.95      3031\n",
      "\n",
      "    accuracy                           0.95      6064\n",
      "   macro avg       0.95      0.95      0.95      6064\n",
      "weighted avg       0.95      0.95      0.95      6064\n",
      "\n",
      "[[2860  173]\n",
      " [ 152 2879]] \n",
      "\n",
      "Cross_val_score: 0.8769795183801742\n"
     ]
    }
   ],
   "source": [
    "print(classification_report(ytrain,ytrain_pred2))\n",
    "print(confusion_matrix(ytrain,ytrain_pred2),'\\n')\n",
    "cvs = cross_val_score(model1,xtrain_scale,ytrain,cv=10)\n",
    "print('Cross_val_score:',np.mean(cvs))"
   ]
  },
  {
   "cell_type": "code",
   "execution_count": 163,
   "id": "3571a5c9",
   "metadata": {},
   "outputs": [
    {
     "name": "stdout",
     "output_type": "stream",
     "text": [
      "model 2 AUC score: 0.946406149533184\n"
     ]
    },
    {
     "data": {
      "image/png": "[encoded data removed]",
      "text/plain": [
       "<Figure size 640x480 with 1 Axes>"
      ]
     },
     "metadata": {},
     "output_type": "display_data"
    }
   ],
   "source": [
    "plot_roc_curve(ytrain,ytrain_pred2)\n",
    "print(f'model 2 AUC score: {roc_auc_score(ytrain, ytrain_pred2)}')"
   ]
  },
  {
   "cell_type": "code",
   "execution_count": 116,
   "id": "8b49dc06",
   "metadata": {},
   "outputs": [
    {
     "name": "stdout",
     "output_type": "stream",
     "text": [
      "              precision    recall  f1-score   support\n",
      "\n",
      "           0       0.88      0.89      0.88       757\n",
      "           1       0.89      0.88      0.88       759\n",
      "\n",
      "    accuracy                           0.88      1516\n",
      "   macro avg       0.88      0.88      0.88      1516\n",
      "weighted avg       0.88      0.88      0.88      1516\n",
      "\n",
      "[[672  85]\n",
      " [ 91 668]] \n",
      "\n",
      "Cross_val_score: 0.8377352736144997\n"
     ]
    }
   ],
   "source": [
    "print(classification_report(ytest,ytest_pred2))\n",
    "print(confusion_matrix(ytest,ytest_pred2),'\\n')\n",
    "cvs = cross_val_score(model1,xtest_scale,ytest,cv=5)\n",
    "print('Cross_val_score:',np.mean(cvs))"
   ]
  },
  {
   "cell_type": "code",
   "execution_count": 164,
   "id": "a08bab2a",
   "metadata": {},
   "outputs": [
    {
     "name": "stdout",
     "output_type": "stream",
     "text": [
      "model 2 AUC score: 0.8839100324942608\n"
     ]
    },
    {
     "data": {
      "image/png": "[encoded data removed]",
      "text/plain": [
       "<Figure size 640x480 with 1 Axes>"
      ]
     },
     "metadata": {},
     "output_type": "display_data"
    }
   ],
   "source": [
    "plot_roc_curve(ytest,ytest_pred2)\n",
    "print(f'model 2 AUC score: {roc_auc_score(ytest, ytest_pred2)}')"
   ]
  },
  {
   "cell_type": "code",
   "execution_count": null,
   "id": "5a7f7555",
   "metadata": {},
   "outputs": [],
   "source": []
  },
  {
   "cell_type": "markdown",
   "id": "b8a01561",
   "metadata": {},
   "source": [
    "# 3.Random Forest"
   ]
  },
  {
   "cell_type": "code",
   "execution_count": 133,
   "id": "df548314",
   "metadata": {},
   "outputs": [],
   "source": [
    "rf=RandomForestClassifier()"
   ]
  },
  {
   "cell_type": "markdown",
   "id": "df0aa856",
   "metadata": {},
   "source": [
    "# Without Tuning of Params "
   ]
  },
  {
   "cell_type": "code",
   "execution_count": 134,
   "id": "60252b2c",
   "metadata": {},
   "outputs": [],
   "source": [
    "rf.fit(xtrain_scale,ytrain)\n",
    "ytrain_pred = rf.predict(xtrain_scale)\n",
    "ytest_pred= rf.predict(xtest_scale)"
   ]
  },
  {
   "cell_type": "code",
   "execution_count": 135,
   "id": "28246bff",
   "metadata": {},
   "outputs": [
    {
     "name": "stdout",
     "output_type": "stream",
     "text": [
      "              precision    recall  f1-score   support\n",
      "\n",
      "           0       1.00      1.00      1.00      3033\n",
      "           1       1.00      1.00      1.00      3031\n",
      "\n",
      "    accuracy                           1.00      6064\n",
      "   macro avg       1.00      1.00      1.00      6064\n",
      "weighted avg       1.00      1.00      1.00      6064\n",
      "\n",
      "[[3033    0]\n",
      " [   0 3031]] \n",
      "\n",
      "Cross_val_score: 0.8865428635120514\n"
     ]
    }
   ],
   "source": [
    "print(classification_report(ytrain,ytrain_pred))\n",
    "print(confusion_matrix(ytrain,ytrain_pred),'\\n')\n",
    "cvs = cross_val_score(rf,xtrain_scale,ytrain,cv=10)\n",
    "print('Cross_val_score:',np.mean(cvs))"
   ]
  },
  {
   "cell_type": "code",
   "execution_count": 146,
   "id": "8904f481",
   "metadata": {},
   "outputs": [
    {
     "name": "stdout",
     "output_type": "stream",
     "text": [
      "              precision    recall  f1-score   support\n",
      "\n",
      "           0       0.90      0.89      0.89       757\n",
      "           1       0.89      0.90      0.90       759\n",
      "\n",
      "    accuracy                           0.90      1516\n",
      "   macro avg       0.90      0.90      0.90      1516\n",
      "weighted avg       0.90      0.90      0.90      1516\n",
      "\n",
      "[[672  85]\n",
      " [ 73 686]] \n",
      "\n",
      "Cross_val_score: 0.8265025186729199\n"
     ]
    }
   ],
   "source": [
    "print(classification_report(ytest,ytest_pred))\n",
    "print(confusion_matrix(ytest,ytest_pred),'\\n')\n",
    "cvs = cross_val_score(rf,xtest_scale,ytest,cv=5)\n",
    "print('Cross_val_score:',np.mean(cvs))"
   ]
  },
  {
   "cell_type": "markdown",
   "id": "4e3912ca",
   "metadata": {},
   "source": [
    "# With Tuning of Params"
   ]
  },
  {
   "cell_type": "code",
   "execution_count": 148,
   "id": "0d23d2fb",
   "metadata": {},
   "outputs": [],
   "source": [
    "params2 = {}\n",
    "params2['criterion'] = ['gini','entropy']\n",
    "params2['max_depth'] = [10,12,15]\n",
    "params2['n_estimators']= [400,800,1000]\n",
    "params2['max_features']=['sqrt', 'log2']"
   ]
  },
  {
   "cell_type": "code",
   "execution_count": 149,
   "id": "d7e004c6",
   "metadata": {},
   "outputs": [],
   "source": [
    "model2=GridSearchCV(rf,param_grid= params2,cv=5,scoring='f1',verbose=3,)"
   ]
  },
  {
   "cell_type": "code",
   "execution_count": 150,
   "id": "2206e63c",
   "metadata": {},
   "outputs": [
    {
     "name": "stdout",
     "output_type": "stream",
     "text": [
      "Fitting 5 folds for each of 36 candidates, totalling 180 fits\n",
      "[CV 1/5] END criterion=gini, max_depth=10, max_features=sqrt, n_estimators=400;, score=0.840 total time=   1.5s\n",
      "[CV 2/5] END criterion=gini, max_depth=10, max_features=sqrt, n_estimators=400;, score=0.836 total time=   1.6s\n",
      "[CV 3/5] END criterion=gini, max_depth=10, max_features=sqrt, n_estimators=400;, score=0.839 total time=   1.5s\n",
      "[CV 4/5] END criterion=gini, max_depth=10, max_features=sqrt, n_estimators=400;, score=0.835 total time=   1.5s\n",
      "[CV 5/5] END criterion=gini, max_depth=10, max_features=sqrt, n_estimators=400;, score=0.857 total time=   1.5s\n",
      "[CV 1/5] END criterion=gini, max_depth=10, max_features=sqrt, n_estimators=800;, score=0.841 total time=   3.2s\n",
      "[CV 2/5] END criterion=gini, max_depth=10, max_features=sqrt, n_estimators=800;, score=0.833 total time=   3.5s\n",
      "[CV 3/5] END criterion=gini, max_depth=10, max_features=sqrt, n_estimators=800;, score=0.843 total time=   2.7s\n",
      "[CV 4/5] END criterion=gini, max_depth=10, max_features=sqrt, n_estimators=800;, score=0.826 total time=   2.5s\n",
      "[CV 5/5] END criterion=gini, max_depth=10, max_features=sqrt, n_estimators=800;, score=0.855 total time=   2.4s\n",
      "[CV 1/5] END criterion=gini, max_depth=10, max_features=sqrt, n_estimators=1000;, score=0.840 total time=   3.1s\n",
      "[CV 2/5] END criterion=gini, max_depth=10, max_features=sqrt, n_estimators=1000;, score=0.835 total time=   3.1s\n",
      "[CV 3/5] END criterion=gini, max_depth=10, max_features=sqrt, n_estimators=1000;, score=0.841 total time=   3.0s\n",
      "[CV 4/5] END criterion=gini, max_depth=10, max_features=sqrt, n_estimators=1000;, score=0.832 total time=   3.0s\n",
      "[CV 5/5] END criterion=gini, max_depth=10, max_features=sqrt, n_estimators=1000;, score=0.853 total time=   3.0s\n",
      "[CV 1/5] END criterion=gini, max_depth=10, max_features=log2, n_estimators=400;, score=0.841 total time=   1.2s\n",
      "[CV 2/5] END criterion=gini, max_depth=10, max_features=log2, n_estimators=400;, score=0.838 total time=   1.1s\n",
      "[CV 3/5] END criterion=gini, max_depth=10, max_features=log2, n_estimators=400;, score=0.845 total time=   1.3s\n",
      "[CV 4/5] END criterion=gini, max_depth=10, max_features=log2, n_estimators=400;, score=0.829 total time=   1.1s\n",
      "[CV 5/5] END criterion=gini, max_depth=10, max_features=log2, n_estimators=400;, score=0.853 total time=   1.1s\n",
      "[CV 1/5] END criterion=gini, max_depth=10, max_features=log2, n_estimators=800;, score=0.842 total time=   2.6s\n",
      "[CV 2/5] END criterion=gini, max_depth=10, max_features=log2, n_estimators=800;, score=0.835 total time=   2.6s\n",
      "[CV 3/5] END criterion=gini, max_depth=10, max_features=log2, n_estimators=800;, score=0.844 total time=   2.5s\n",
      "[CV 4/5] END criterion=gini, max_depth=10, max_features=log2, n_estimators=800;, score=0.832 total time=   2.5s\n",
      "[CV 5/5] END criterion=gini, max_depth=10, max_features=log2, n_estimators=800;, score=0.856 total time=   2.4s\n",
      "[CV 1/5] END criterion=gini, max_depth=10, max_features=log2, n_estimators=1000;, score=0.845 total time=   3.3s\n",
      "[CV 2/5] END criterion=gini, max_depth=10, max_features=log2, n_estimators=1000;, score=0.833 total time=   3.7s\n",
      "[CV 3/5] END criterion=gini, max_depth=10, max_features=log2, n_estimators=1000;, score=0.838 total time=   3.2s\n",
      "[CV 4/5] END criterion=gini, max_depth=10, max_features=log2, n_estimators=1000;, score=0.831 total time=   3.4s\n",
      "[CV 5/5] END criterion=gini, max_depth=10, max_features=log2, n_estimators=1000;, score=0.856 total time=   3.2s\n",
      "[CV 1/5] END criterion=gini, max_depth=12, max_features=sqrt, n_estimators=400;, score=0.862 total time=   1.3s\n",
      "[CV 2/5] END criterion=gini, max_depth=12, max_features=sqrt, n_estimators=400;, score=0.855 total time=   1.4s\n",
      "[CV 3/5] END criterion=gini, max_depth=12, max_features=sqrt, n_estimators=400;, score=0.852 total time=   1.3s\n",
      "[CV 4/5] END criterion=gini, max_depth=12, max_features=sqrt, n_estimators=400;, score=0.850 total time=   1.3s\n",
      "[CV 5/5] END criterion=gini, max_depth=12, max_features=sqrt, n_estimators=400;, score=0.870 total time=   1.3s\n",
      "[CV 1/5] END criterion=gini, max_depth=12, max_features=sqrt, n_estimators=800;, score=0.864 total time=   2.8s\n",
      "[CV 2/5] END criterion=gini, max_depth=12, max_features=sqrt, n_estimators=800;, score=0.853 total time=   2.7s\n",
      "[CV 3/5] END criterion=gini, max_depth=12, max_features=sqrt, n_estimators=800;, score=0.856 total time=   2.7s\n",
      "[CV 4/5] END criterion=gini, max_depth=12, max_features=sqrt, n_estimators=800;, score=0.857 total time=   2.7s\n",
      "[CV 5/5] END criterion=gini, max_depth=12, max_features=sqrt, n_estimators=800;, score=0.870 total time=   2.7s\n",
      "[CV 1/5] END criterion=gini, max_depth=12, max_features=sqrt, n_estimators=1000;, score=0.865 total time=   3.5s\n",
      "[CV 2/5] END criterion=gini, max_depth=12, max_features=sqrt, n_estimators=1000;, score=0.854 total time=   3.5s\n",
      "[CV 3/5] END criterion=gini, max_depth=12, max_features=sqrt, n_estimators=1000;, score=0.855 total time=   3.3s\n",
      "[CV 4/5] END criterion=gini, max_depth=12, max_features=sqrt, n_estimators=1000;, score=0.854 total time=   3.4s\n",
      "[CV 5/5] END criterion=gini, max_depth=12, max_features=sqrt, n_estimators=1000;, score=0.871 total time=   3.4s\n",
      "[CV 1/5] END criterion=gini, max_depth=12, max_features=log2, n_estimators=400;, score=0.862 total time=   1.3s\n",
      "[CV 2/5] END criterion=gini, max_depth=12, max_features=log2, n_estimators=400;, score=0.856 total time=   1.3s\n",
      "[CV 3/5] END criterion=gini, max_depth=12, max_features=log2, n_estimators=400;, score=0.852 total time=   1.3s\n",
      "[CV 4/5] END criterion=gini, max_depth=12, max_features=log2, n_estimators=400;, score=0.860 total time=   1.4s\n",
      "[CV 5/5] END criterion=gini, max_depth=12, max_features=log2, n_estimators=400;, score=0.874 total time=   1.4s\n",
      "[CV 1/5] END criterion=gini, max_depth=12, max_features=log2, n_estimators=800;, score=0.866 total time=   2.8s\n",
      "[CV 2/5] END criterion=gini, max_depth=12, max_features=log2, n_estimators=800;, score=0.852 total time=   2.8s\n",
      "[CV 3/5] END criterion=gini, max_depth=12, max_features=log2, n_estimators=800;, score=0.853 total time=   2.7s\n",
      "[CV 4/5] END criterion=gini, max_depth=12, max_features=log2, n_estimators=800;, score=0.854 total time=   2.7s\n",
      "[CV 5/5] END criterion=gini, max_depth=12, max_features=log2, n_estimators=800;, score=0.869 total time=   2.7s\n",
      "[CV 1/5] END criterion=gini, max_depth=12, max_features=log2, n_estimators=1000;, score=0.866 total time=   3.5s\n",
      "[CV 2/5] END criterion=gini, max_depth=12, max_features=log2, n_estimators=1000;, score=0.855 total time=   3.4s\n",
      "[CV 3/5] END criterion=gini, max_depth=12, max_features=log2, n_estimators=1000;, score=0.852 total time=   3.4s\n",
      "[CV 4/5] END criterion=gini, max_depth=12, max_features=log2, n_estimators=1000;, score=0.851 total time=   3.5s\n",
      "[CV 5/5] END criterion=gini, max_depth=12, max_features=log2, n_estimators=1000;, score=0.870 total time=   3.5s\n",
      "[CV 1/5] END criterion=gini, max_depth=15, max_features=sqrt, n_estimators=400;, score=0.877 total time=   1.5s\n",
      "[CV 2/5] END criterion=gini, max_depth=15, max_features=sqrt, n_estimators=400;, score=0.874 total time=   1.4s\n",
      "[CV 3/5] END criterion=gini, max_depth=15, max_features=sqrt, n_estimators=400;, score=0.870 total time=   1.5s\n",
      "[CV 4/5] END criterion=gini, max_depth=15, max_features=sqrt, n_estimators=400;, score=0.871 total time=   1.4s\n",
      "[CV 5/5] END criterion=gini, max_depth=15, max_features=sqrt, n_estimators=400;, score=0.881 total time=   1.4s\n",
      "[CV 1/5] END criterion=gini, max_depth=15, max_features=sqrt, n_estimators=800;, score=0.880 total time=   3.1s\n",
      "[CV 2/5] END criterion=gini, max_depth=15, max_features=sqrt, n_estimators=800;, score=0.870 total time=   3.1s\n",
      "[CV 3/5] END criterion=gini, max_depth=15, max_features=sqrt, n_estimators=800;, score=0.870 total time=   3.1s\n",
      "[CV 4/5] END criterion=gini, max_depth=15, max_features=sqrt, n_estimators=800;, score=0.879 total time=   3.1s\n",
      "[CV 5/5] END criterion=gini, max_depth=15, max_features=sqrt, n_estimators=800;, score=0.885 total time=   3.1s\n",
      "[CV 1/5] END criterion=gini, max_depth=15, max_features=sqrt, n_estimators=1000;, score=0.880 total time=   3.8s\n",
      "[CV 2/5] END criterion=gini, max_depth=15, max_features=sqrt, n_estimators=1000;, score=0.868 total time=   4.0s\n",
      "[CV 3/5] END criterion=gini, max_depth=15, max_features=sqrt, n_estimators=1000;, score=0.869 total time=   4.5s\n"
     ]
    },
    {
     "name": "stdout",
     "output_type": "stream",
     "text": [
      "[CV 4/5] END criterion=gini, max_depth=15, max_features=sqrt, n_estimators=1000;, score=0.877 total time=   4.7s\n",
      "[CV 5/5] END criterion=gini, max_depth=15, max_features=sqrt, n_estimators=1000;, score=0.883 total time=   4.3s\n",
      "[CV 1/5] END criterion=gini, max_depth=15, max_features=log2, n_estimators=400;, score=0.875 total time=   1.6s\n",
      "[CV 2/5] END criterion=gini, max_depth=15, max_features=log2, n_estimators=400;, score=0.872 total time=   1.4s\n",
      "[CV 3/5] END criterion=gini, max_depth=15, max_features=log2, n_estimators=400;, score=0.870 total time=   1.4s\n",
      "[CV 4/5] END criterion=gini, max_depth=15, max_features=log2, n_estimators=400;, score=0.880 total time=   1.5s\n",
      "[CV 5/5] END criterion=gini, max_depth=15, max_features=log2, n_estimators=400;, score=0.883 total time=   1.4s\n",
      "[CV 1/5] END criterion=gini, max_depth=15, max_features=log2, n_estimators=800;, score=0.878 total time=   3.0s\n",
      "[CV 2/5] END criterion=gini, max_depth=15, max_features=log2, n_estimators=800;, score=0.871 total time=   3.0s\n",
      "[CV 3/5] END criterion=gini, max_depth=15, max_features=log2, n_estimators=800;, score=0.867 total time=   3.0s\n",
      "[CV 4/5] END criterion=gini, max_depth=15, max_features=log2, n_estimators=800;, score=0.878 total time=   3.0s\n",
      "[CV 5/5] END criterion=gini, max_depth=15, max_features=log2, n_estimators=800;, score=0.884 total time=   3.1s\n",
      "[CV 1/5] END criterion=gini, max_depth=15, max_features=log2, n_estimators=1000;, score=0.881 total time=   3.8s\n",
      "[CV 2/5] END criterion=gini, max_depth=15, max_features=log2, n_estimators=1000;, score=0.872 total time=   3.7s\n",
      "[CV 3/5] END criterion=gini, max_depth=15, max_features=log2, n_estimators=1000;, score=0.871 total time=   3.9s\n",
      "[CV 4/5] END criterion=gini, max_depth=15, max_features=log2, n_estimators=1000;, score=0.880 total time=   4.3s\n",
      "[CV 5/5] END criterion=gini, max_depth=15, max_features=log2, n_estimators=1000;, score=0.885 total time=   4.9s\n",
      "[CV 1/5] END criterion=entropy, max_depth=10, max_features=sqrt, n_estimators=400;, score=0.837 total time=   1.4s\n",
      "[CV 2/5] END criterion=entropy, max_depth=10, max_features=sqrt, n_estimators=400;, score=0.833 total time=   1.7s\n",
      "[CV 3/5] END criterion=entropy, max_depth=10, max_features=sqrt, n_estimators=400;, score=0.834 total time=   1.9s\n",
      "[CV 4/5] END criterion=entropy, max_depth=10, max_features=sqrt, n_estimators=400;, score=0.826 total time=   1.5s\n",
      "[CV 5/5] END criterion=entropy, max_depth=10, max_features=sqrt, n_estimators=400;, score=0.851 total time=   1.4s\n",
      "[CV 1/5] END criterion=entropy, max_depth=10, max_features=sqrt, n_estimators=800;, score=0.836 total time=   2.7s\n",
      "[CV 2/5] END criterion=entropy, max_depth=10, max_features=sqrt, n_estimators=800;, score=0.832 total time=   2.9s\n",
      "[CV 3/5] END criterion=entropy, max_depth=10, max_features=sqrt, n_estimators=800;, score=0.835 total time=   2.7s\n",
      "[CV 4/5] END criterion=entropy, max_depth=10, max_features=sqrt, n_estimators=800;, score=0.824 total time=   2.7s\n",
      "[CV 5/5] END criterion=entropy, max_depth=10, max_features=sqrt, n_estimators=800;, score=0.856 total time=   2.7s\n",
      "[CV 1/5] END criterion=entropy, max_depth=10, max_features=sqrt, n_estimators=1000;, score=0.836 total time=   3.5s\n",
      "[CV 2/5] END criterion=entropy, max_depth=10, max_features=sqrt, n_estimators=1000;, score=0.833 total time=   3.5s\n",
      "[CV 3/5] END criterion=entropy, max_depth=10, max_features=sqrt, n_estimators=1000;, score=0.837 total time=   3.5s\n",
      "[CV 4/5] END criterion=entropy, max_depth=10, max_features=sqrt, n_estimators=1000;, score=0.825 total time=   3.5s\n",
      "[CV 5/5] END criterion=entropy, max_depth=10, max_features=sqrt, n_estimators=1000;, score=0.853 total time=   3.6s\n",
      "[CV 1/5] END criterion=entropy, max_depth=10, max_features=log2, n_estimators=400;, score=0.837 total time=   1.4s\n",
      "[CV 2/5] END criterion=entropy, max_depth=10, max_features=log2, n_estimators=400;, score=0.834 total time=   1.4s\n",
      "[CV 3/5] END criterion=entropy, max_depth=10, max_features=log2, n_estimators=400;, score=0.838 total time=   1.3s\n",
      "[CV 4/5] END criterion=entropy, max_depth=10, max_features=log2, n_estimators=400;, score=0.828 total time=   1.4s\n",
      "[CV 5/5] END criterion=entropy, max_depth=10, max_features=log2, n_estimators=400;, score=0.850 total time=   1.4s\n",
      "[CV 1/5] END criterion=entropy, max_depth=10, max_features=log2, n_estimators=800;, score=0.837 total time=   2.9s\n",
      "[CV 2/5] END criterion=entropy, max_depth=10, max_features=log2, n_estimators=800;, score=0.833 total time=   2.8s\n",
      "[CV 3/5] END criterion=entropy, max_depth=10, max_features=log2, n_estimators=800;, score=0.839 total time=   2.7s\n",
      "[CV 4/5] END criterion=entropy, max_depth=10, max_features=log2, n_estimators=800;, score=0.828 total time=   2.7s\n",
      "[CV 5/5] END criterion=entropy, max_depth=10, max_features=log2, n_estimators=800;, score=0.855 total time=   3.1s\n",
      "[CV 1/5] END criterion=entropy, max_depth=10, max_features=log2, n_estimators=1000;, score=0.838 total time=   3.6s\n",
      "[CV 2/5] END criterion=entropy, max_depth=10, max_features=log2, n_estimators=1000;, score=0.833 total time=   3.4s\n",
      "[CV 3/5] END criterion=entropy, max_depth=10, max_features=log2, n_estimators=1000;, score=0.838 total time=   3.4s\n",
      "[CV 4/5] END criterion=entropy, max_depth=10, max_features=log2, n_estimators=1000;, score=0.828 total time=   3.5s\n",
      "[CV 5/5] END criterion=entropy, max_depth=10, max_features=log2, n_estimators=1000;, score=0.853 total time=   3.4s\n",
      "[CV 1/5] END criterion=entropy, max_depth=12, max_features=sqrt, n_estimators=400;, score=0.856 total time=   1.4s\n",
      "[CV 2/5] END criterion=entropy, max_depth=12, max_features=sqrt, n_estimators=400;, score=0.855 total time=   1.5s\n",
      "[CV 3/5] END criterion=entropy, max_depth=12, max_features=sqrt, n_estimators=400;, score=0.848 total time=   1.4s\n",
      "[CV 4/5] END criterion=entropy, max_depth=12, max_features=sqrt, n_estimators=400;, score=0.847 total time=   1.6s\n",
      "[CV 5/5] END criterion=entropy, max_depth=12, max_features=sqrt, n_estimators=400;, score=0.864 total time=   1.5s\n",
      "[CV 1/5] END criterion=entropy, max_depth=12, max_features=sqrt, n_estimators=800;, score=0.862 total time=   3.2s\n",
      "[CV 2/5] END criterion=entropy, max_depth=12, max_features=sqrt, n_estimators=800;, score=0.851 total time=   3.1s\n",
      "[CV 3/5] END criterion=entropy, max_depth=12, max_features=sqrt, n_estimators=800;, score=0.848 total time=   3.0s\n",
      "[CV 4/5] END criterion=entropy, max_depth=12, max_features=sqrt, n_estimators=800;, score=0.851 total time=   3.2s\n",
      "[CV 5/5] END criterion=entropy, max_depth=12, max_features=sqrt, n_estimators=800;, score=0.863 total time=   3.0s\n",
      "[CV 1/5] END criterion=entropy, max_depth=12, max_features=sqrt, n_estimators=1000;, score=0.860 total time=   3.9s\n",
      "[CV 2/5] END criterion=entropy, max_depth=12, max_features=sqrt, n_estimators=1000;, score=0.847 total time=   3.9s\n",
      "[CV 3/5] END criterion=entropy, max_depth=12, max_features=sqrt, n_estimators=1000;, score=0.849 total time=   3.9s\n",
      "[CV 4/5] END criterion=entropy, max_depth=12, max_features=sqrt, n_estimators=1000;, score=0.850 total time=   4.9s\n",
      "[CV 5/5] END criterion=entropy, max_depth=12, max_features=sqrt, n_estimators=1000;, score=0.864 total time=   4.0s\n",
      "[CV 1/5] END criterion=entropy, max_depth=12, max_features=log2, n_estimators=400;, score=0.860 total time=   1.8s\n",
      "[CV 2/5] END criterion=entropy, max_depth=12, max_features=log2, n_estimators=400;, score=0.851 total time=   1.8s\n",
      "[CV 3/5] END criterion=entropy, max_depth=12, max_features=log2, n_estimators=400;, score=0.849 total time=   1.5s\n",
      "[CV 4/5] END criterion=entropy, max_depth=12, max_features=log2, n_estimators=400;, score=0.852 total time=   1.5s\n",
      "[CV 5/5] END criterion=entropy, max_depth=12, max_features=log2, n_estimators=400;, score=0.865 total time=   1.5s\n",
      "[CV 1/5] END criterion=entropy, max_depth=12, max_features=log2, n_estimators=800;, score=0.858 total time=   3.1s\n",
      "[CV 2/5] END criterion=entropy, max_depth=12, max_features=log2, n_estimators=800;, score=0.848 total time=   3.8s\n",
      "[CV 3/5] END criterion=entropy, max_depth=12, max_features=log2, n_estimators=800;, score=0.850 total time=   3.6s\n",
      "[CV 4/5] END criterion=entropy, max_depth=12, max_features=log2, n_estimators=800;, score=0.849 total time=   3.5s\n",
      "[CV 5/5] END criterion=entropy, max_depth=12, max_features=log2, n_estimators=800;, score=0.865 total time=   3.7s\n"
     ]
    },
    {
     "name": "stdout",
     "output_type": "stream",
     "text": [
      "[CV 1/5] END criterion=entropy, max_depth=12, max_features=log2, n_estimators=1000;, score=0.859 total time=   3.8s\n",
      "[CV 2/5] END criterion=entropy, max_depth=12, max_features=log2, n_estimators=1000;, score=0.848 total time=   3.8s\n",
      "[CV 3/5] END criterion=entropy, max_depth=12, max_features=log2, n_estimators=1000;, score=0.850 total time=   3.9s\n",
      "[CV 4/5] END criterion=entropy, max_depth=12, max_features=log2, n_estimators=1000;, score=0.853 total time=   3.9s\n",
      "[CV 5/5] END criterion=entropy, max_depth=12, max_features=log2, n_estimators=1000;, score=0.866 total time=   3.8s\n",
      "[CV 1/5] END criterion=entropy, max_depth=15, max_features=sqrt, n_estimators=400;, score=0.875 total time=   1.6s\n",
      "[CV 2/5] END criterion=entropy, max_depth=15, max_features=sqrt, n_estimators=400;, score=0.872 total time=   1.6s\n",
      "[CV 3/5] END criterion=entropy, max_depth=15, max_features=sqrt, n_estimators=400;, score=0.862 total time=   1.6s\n",
      "[CV 4/5] END criterion=entropy, max_depth=15, max_features=sqrt, n_estimators=400;, score=0.875 total time=   1.7s\n",
      "[CV 5/5] END criterion=entropy, max_depth=15, max_features=sqrt, n_estimators=400;, score=0.882 total time=   1.7s\n",
      "[CV 1/5] END criterion=entropy, max_depth=15, max_features=sqrt, n_estimators=800;, score=0.878 total time=   3.5s\n",
      "[CV 2/5] END criterion=entropy, max_depth=15, max_features=sqrt, n_estimators=800;, score=0.868 total time=   3.4s\n",
      "[CV 3/5] END criterion=entropy, max_depth=15, max_features=sqrt, n_estimators=800;, score=0.869 total time=   3.5s\n",
      "[CV 4/5] END criterion=entropy, max_depth=15, max_features=sqrt, n_estimators=800;, score=0.879 total time=   3.5s\n",
      "[CV 5/5] END criterion=entropy, max_depth=15, max_features=sqrt, n_estimators=800;, score=0.880 total time=   3.5s\n",
      "[CV 1/5] END criterion=entropy, max_depth=15, max_features=sqrt, n_estimators=1000;, score=0.875 total time=   4.4s\n",
      "[CV 2/5] END criterion=entropy, max_depth=15, max_features=sqrt, n_estimators=1000;, score=0.870 total time=   4.3s\n",
      "[CV 3/5] END criterion=entropy, max_depth=15, max_features=sqrt, n_estimators=1000;, score=0.865 total time=   4.4s\n",
      "[CV 4/5] END criterion=entropy, max_depth=15, max_features=sqrt, n_estimators=1000;, score=0.876 total time=   4.7s\n",
      "[CV 5/5] END criterion=entropy, max_depth=15, max_features=sqrt, n_estimators=1000;, score=0.879 total time=   4.5s\n",
      "[CV 1/5] END criterion=entropy, max_depth=15, max_features=log2, n_estimators=400;, score=0.876 total time=   1.7s\n",
      "[CV 2/5] END criterion=entropy, max_depth=15, max_features=log2, n_estimators=400;, score=0.874 total time=   1.7s\n",
      "[CV 3/5] END criterion=entropy, max_depth=15, max_features=log2, n_estimators=400;, score=0.870 total time=   1.7s\n",
      "[CV 4/5] END criterion=entropy, max_depth=15, max_features=log2, n_estimators=400;, score=0.875 total time=   1.7s\n",
      "[CV 5/5] END criterion=entropy, max_depth=15, max_features=log2, n_estimators=400;, score=0.875 total time=   1.7s\n",
      "[CV 1/5] END criterion=entropy, max_depth=15, max_features=log2, n_estimators=800;, score=0.876 total time=   3.6s\n",
      "[CV 2/5] END criterion=entropy, max_depth=15, max_features=log2, n_estimators=800;, score=0.868 total time=   3.5s\n",
      "[CV 3/5] END criterion=entropy, max_depth=15, max_features=log2, n_estimators=800;, score=0.867 total time=   3.5s\n",
      "[CV 4/5] END criterion=entropy, max_depth=15, max_features=log2, n_estimators=800;, score=0.873 total time=   3.9s\n",
      "[CV 5/5] END criterion=entropy, max_depth=15, max_features=log2, n_estimators=800;, score=0.879 total time=   4.2s\n",
      "[CV 1/5] END criterion=entropy, max_depth=15, max_features=log2, n_estimators=1000;, score=0.878 total time=   4.9s\n",
      "[CV 2/5] END criterion=entropy, max_depth=15, max_features=log2, n_estimators=1000;, score=0.869 total time=   4.7s\n",
      "[CV 3/5] END criterion=entropy, max_depth=15, max_features=log2, n_estimators=1000;, score=0.865 total time=   4.4s\n",
      "[CV 4/5] END criterion=entropy, max_depth=15, max_features=log2, n_estimators=1000;, score=0.875 total time=   4.3s\n",
      "[CV 5/5] END criterion=entropy, max_depth=15, max_features=log2, n_estimators=1000;, score=0.879 total time=   4.3s\n"
     ]
    },
    {
     "data": {
      "text/plain": [
       "GridSearchCV(cv=5, estimator=RandomForestClassifier(),\n",
       "             param_grid={'criterion': ['gini', 'entropy'],\n",
       "                         'max_depth': [10, 12, 15],\n",
       "                         'max_features': ['sqrt', 'log2'],\n",
       "                         'n_estimators': [400, 800, 1000]},\n",
       "             scoring='f1', verbose=3)"
      ]
     },
     "execution_count": 150,
     "metadata": {},
     "output_type": "execute_result"
    }
   ],
   "source": [
    "model2.fit(xtrain_scale,ytrain)"
   ]
  },
  {
   "cell_type": "code",
   "execution_count": 151,
   "id": "75e26002",
   "metadata": {},
   "outputs": [
    {
     "data": {
      "text/plain": [
       "RandomForestClassifier(max_depth=15, max_features='log2', n_estimators=1000)"
      ]
     },
     "execution_count": 151,
     "metadata": {},
     "output_type": "execute_result"
    }
   ],
   "source": [
    "model2= model2.best_estimator_\n",
    "model2"
   ]
  },
  {
   "cell_type": "code",
   "execution_count": 152,
   "id": "559dd88d",
   "metadata": {},
   "outputs": [],
   "source": [
    "ytrain_pred3 = model2.predict(xtrain_scale)\n",
    "ytest_pred3 = model2.predict(xtest_scale)"
   ]
  },
  {
   "cell_type": "code",
   "execution_count": 153,
   "id": "0e234850",
   "metadata": {},
   "outputs": [
    {
     "name": "stdout",
     "output_type": "stream",
     "text": [
      "              precision    recall  f1-score   support\n",
      "\n",
      "           0       0.98      0.97      0.98      3033\n",
      "           1       0.97      0.98      0.98      3031\n",
      "\n",
      "    accuracy                           0.98      6064\n",
      "   macro avg       0.98      0.98      0.98      6064\n",
      "weighted avg       0.98      0.98      0.98      6064\n",
      "\n",
      "[[2937   96]\n",
      " [  47 2984]] \n",
      "\n",
      "Cross_val_score: 0.880608793993073\n"
     ]
    }
   ],
   "source": [
    "print(classification_report(ytrain,ytrain_pred3))\n",
    "print(confusion_matrix(ytrain,ytrain_pred3),'\\n')\n",
    "cvs = cross_val_score(model2,xtrain_scale,ytrain,cv=10)\n",
    "print('Cross_val_score:',np.mean(cvs))"
   ]
  },
  {
   "cell_type": "code",
   "execution_count": 155,
   "id": "9f268fd3",
   "metadata": {},
   "outputs": [
    {
     "name": "stdout",
     "output_type": "stream",
     "text": [
      "              precision    recall  f1-score   support\n",
      "\n",
      "           0       0.89      0.87      0.88       757\n",
      "           1       0.88      0.89      0.89       759\n",
      "\n",
      "    accuracy                           0.88      1516\n",
      "   macro avg       0.88      0.88      0.88      1516\n",
      "weighted avg       0.88      0.88      0.88      1516\n",
      "\n",
      "[[662  95]\n",
      " [ 81 678]] \n",
      "\n",
      "Cross_val_score: 0.8344283722551411\n"
     ]
    }
   ],
   "source": [
    "print(classification_report(ytest,ytest_pred3))\n",
    "print(confusion_matrix(ytest,ytest_pred3),'\\n')\n",
    "cvs = cross_val_score(model2,xtest_scale,ytest,cv=10)\n",
    "print('Cross_val_score:',np.mean(cvs))"
   ]
  },
  {
   "cell_type": "code",
   "execution_count": 156,
   "id": "41edd26b",
   "metadata": {},
   "outputs": [],
   "source": []
  },
  {
   "cell_type": "code",
   "execution_count": 161,
   "id": "64179765",
   "metadata": {},
   "outputs": [
    {
     "name": "stdout",
     "output_type": "stream",
     "text": [
      "model 2 AUC score: 0.9764208683041475\n"
     ]
    },
    {
     "data": {
      "image/png": "[encoded data removed]",
      "text/plain": [
       "<Figure size 640x480 with 1 Axes>"
      ]
     },
     "metadata": {},
     "output_type": "display_data"
    }
   ],
   "source": [
    "plot_roc_curve(ytrain,ytrain_pred3)\n",
    "print(f'model 2 AUC score: {roc_auc_score(ytrain, ytrain_pred3)}')"
   ]
  },
  {
   "cell_type": "code",
   "execution_count": 162,
   "id": "b0638004",
   "metadata": {},
   "outputs": [
    {
     "name": "stdout",
     "output_type": "stream",
     "text": [
      "model 2 AUC score: 0.8838926279624688\n"
     ]
    },
    {
     "data": {
      "image/png": "[encoded data removed]",
      "text/plain": [
       "<Figure size 640x480 with 1 Axes>"
      ]
     },
     "metadata": {},
     "output_type": "display_data"
    }
   ],
   "source": [
    "plot_roc_curve(ytest,ytest_pred3)\n",
    "print(f'model 2 AUC score: {roc_auc_score(ytest, ytest_pred3)}')"
   ]
  },
  {
   "cell_type": "code",
   "execution_count": null,
   "id": "b1723788",
   "metadata": {},
   "outputs": [],
   "source": []
  }
 ],
 "metadata": {
  "kernelspec": {
   "display_name": "Python 3 (ipykernel)",
   "language": "python",
   "name": "python3"
  },
  "language_info": {
   "codemirror_mode": {
    "name": "ipython",
    "version": 3
   },
   "file_extension": ".py",
   "mimetype": "text/x-python",
   "name": "python",
   "nbconvert_exporter": "python",
   "pygments_lexer": "ipython3",
   "version": "3.9.13"
  }
 },
 "nbformat": 4,
 "nbformat_minor": 5
}
